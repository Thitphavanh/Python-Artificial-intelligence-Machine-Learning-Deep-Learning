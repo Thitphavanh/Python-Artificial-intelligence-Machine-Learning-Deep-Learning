{
 "cells": [
  {
   "cell_type": "code",
   "execution_count": 8,
   "metadata": {},
   "outputs": [
    {
     "name": "stdout",
     "output_type": "stream",
     "text": [
      "1915 Lost Generation World war 1\n"
     ]
    }
   ],
   "source": [
    "y = int(input('ໃສ່ຂໍ້ມູນ ປີ ຄ.ສ. ທີ່ເກີດ :'))\n",
    "gen = ''\n",
    "\n",
    "if y <= 1914 or y <= 1919:\n",
    "    gen = 'Lost Generation'\n",
    "    def g():\n",
    "        t1 = 'World war 1'\n",
    "        return t1\n",
    "    \n",
    "else:\n",
    "    gen = 'No have Gen'\n",
    "\n",
    "print(f'{y} {gen} {g()}')\n",
    "        "
   ]
  }
 ],
 "metadata": {
  "kernelspec": {
   "display_name": "Python 3.10.4 64-bit",
   "language": "python",
   "name": "python3"
  },
  "language_info": {
   "codemirror_mode": {
    "name": "ipython",
    "version": 3
   },
   "file_extension": ".py",
   "mimetype": "text/x-python",
   "name": "python",
   "nbconvert_exporter": "python",
   "pygments_lexer": "ipython3",
   "version": "3.10.4"
  },
  "orig_nbformat": 4,
  "vscode": {
   "interpreter": {
    "hash": "369f2c481f4da34e4445cda3fffd2e751bd1c4d706f27375911949ba6bb62e1c"
   }
  }
 },
 "nbformat": 4,
 "nbformat_minor": 2
}
