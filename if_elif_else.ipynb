{
 "cells": [
  {
   "cell_type": "code",
   "execution_count": 18,
   "metadata": {},
   "outputs": [
    {
     "name": "stdout",
     "output_type": "stream",
     "text": [
      "ຄົນທີ່ເກີດໃນປີ ຄ.ສ. 2014 ຈັດຢູ່ໃນກຸ່ມ Generation Alpha ຢູ່ໃນລະຫວ່າງຊ່ວງ ຍຸກທີ່ມາພ້ອມກັບໂຊຊ່ຽວມີເດຍ, ແພລັດຟອມທາງອິນເຕີຣເນັດ\n"
     ]
    }
   ],
   "source": [
    "y = int(input('ໃສ່ຂໍ້ມູນ ປີ ຄ.ສ. ທີ່ເກີດ :'))\n",
    "gen = ''\n",
    "\n",
    "if y <= 1883 or y <= 1900:\n",
    "    gen = 'Lost Generation'\n",
    "\n",
    "    def g():\n",
    "        t1 = 'ຍຸກກ່ອນສົງຄາມໂລກຄັ້ງທີ 1'\n",
    "        return t1\n",
    "\n",
    "elif y <= 1901 or y <= 1927:\n",
    "    gen = 'Greatest Generation'\n",
    "\n",
    "    def g():\n",
    "        t2 = 'ຍຸກກ່ອນ ແລະ ຫຼັງສົງຄາມໂລກຄັ້ງທີ 1, ເປັນຍຸກແຫ່ງການຟື້ນຟູ ແລະ ພັດທະນາເສດຖະກິດ'\n",
    "        return t2\n",
    "\n",
    "elif y <= 1928 or y <= 1945:\n",
    "    gen = 'Silent Generation'\n",
    "\n",
    "    def g():\n",
    "        t3 = 'ຍຸກສົງຄາມໂລກຄັ້ງທີ 2, ເປັນບຸກຄົນທີ່ມີຄວາມພັກດີຕໍ່ນາຍຈ້າງ ແລະ ປະເທດສູງ'\n",
    "        return t3\n",
    "\n",
    "elif y <= 1946 or y <= 1964:\n",
    "    gen = 'Baby Boomer'\n",
    "\n",
    "    def g():\n",
    "        t4 = 'ຍຸກຫຼັງສົງຄາມໂລກຄັ້ງທີ 2, ເປັນຍຸກຄົນທີ່ມີຊີວິດເພື່ອການເຮັດວຽກ, ປະຫຍັດ, ອົດອອມ ແລະ ຮອບຄອບ'\n",
    "        return t4\n",
    "\n",
    "elif y <= 1965 or y <= 1980:\n",
    "    gen = 'Generation X'\n",
    "\n",
    "    def g():\n",
    "        t5 = 'ຍຸກທີ່ມາມາກັບການພັດທະນາເກມ, ເປັນໂຕຂອງໂຕເອງສູງ, ມີຄວາມຄິດສ້າງສັນ'\n",
    "        return t5\n",
    "\n",
    "elif y <= 1981 or y <= 1996:\n",
    "    gen = 'Millennials'\n",
    "\n",
    "    def g():\n",
    "        t6 = 'ຍຸກທີ່ໂລກມັ້ງຄັ້ງລ້ຳລວຍແລ້ວ, ມີຄອມພິວເຕີຣ, ອິນເຕີຣເນັດຈະເລີນກ້າວໜ້າ, ຄົນກຸ້ມນີ້ມັກເທັຄໂນໂລຢີ, ມີຄວາມຄິດສ້າງສັນ'\n",
    "        return t6\n",
    "\n",
    "elif y <= 1997 or y <= 2012:\n",
    "    gen = 'Generation Z'\n",
    "\n",
    "    def g():\n",
    "        t7 = 'ຍຸກທີ່ມາພ້ອມສິ່ງອຳນວຍຄວາມສະດວກ, ມີພຶດຕິກຳມັກຫຼິ້ນໂທລະສັບ, ອິນເຕີຣເນັດ'\n",
    "        return t7\n",
    "\n",
    "elif y >= 2013:\n",
    "    gen = 'Generation Alpha'\n",
    "\n",
    "    def g():\n",
    "        t8 = 'ຍຸກທີ່ມາພ້ອມກັບໂຊຊ່ຽວມີເດຍ, ແພລັດຟອມທາງອິນເຕີຣເນັດ'\n",
    "        return t8\n",
    "\n",
    "\n",
    "else:\n",
    "    gen = 'No have Gen'\n",
    "\n",
    "print(f'ຄົນທີ່ເກີດໃນປີ ຄ.ສ. {y} ຈັດຢູ່ໃນກຸ່ມ {gen} ຢູ່ໃນລະຫວ່າງຊ່ວງ {g()}')\n"
   ]
  }
 ],
 "metadata": {
  "kernelspec": {
   "display_name": "Python 3.10.4 64-bit",
   "language": "python",
   "name": "python3"
  },
  "language_info": {
   "codemirror_mode": {
    "name": "ipython",
    "version": 3
   },
   "file_extension": ".py",
   "mimetype": "text/x-python",
   "name": "python",
   "nbconvert_exporter": "python",
   "pygments_lexer": "ipython3",
   "version": "3.10.4"
  },
  "orig_nbformat": 4,
  "vscode": {
   "interpreter": {
    "hash": "369f2c481f4da34e4445cda3fffd2e751bd1c4d706f27375911949ba6bb62e1c"
   }
  }
 },
 "nbformat": 4,
 "nbformat_minor": 2
}
