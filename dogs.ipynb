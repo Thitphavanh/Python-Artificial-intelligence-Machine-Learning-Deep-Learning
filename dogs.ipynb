{
 "cells": [
  {
   "cell_type": "code",
   "execution_count": 1,
   "metadata": {},
   "outputs": [
    {
     "name": "stdout",
     "output_type": "stream",
     "text": [
      "ໄລຍະການເຫັນໃນຕາຂອງໝາ ແມ່ນ 500 Km\n",
      "ໄລຍະການໄດ້ຍິນໃນຫູຂອງໝາ ແມ່ນ 40 Km\n",
      "ໄລຍະການດົມກິ່ນຂອງໝາ 3 Km ແມ່ນ ດົມກິ່ນໄດ້ດີ\n",
      "ໝາມີລິ້ນທີ່ຍາວ ຍາວຍາວ ກວ່າແມວ\n",
      "ໝາມີຮ່າງກາຍ ສູງໃຫຍ່ ກວ່າແມວ 5 ເທົ່າ\n"
     ]
    }
   ],
   "source": [
    "class Dog:\n",
    "    # (Attributes/Features)\n",
    "    eyes = 2\n",
    "    ears = 2\n",
    "    noses = 'ດົມກິ່ນໄດ້ດີ'\n",
    "    tongues = 'ລິ້ນຍາວ'\n",
    "    bodys = 'ສູງໃຫຍ່'\n",
    "\n",
    "    # (Constructor/Initializer)\n",
    "    def __init__(self, eyes, ears, noses, tongues, bodys):\n",
    "        self.eyes = eyes\n",
    "        self.ears = ears\n",
    "        self.noses = noses\n",
    "        self.tongues = tongues\n",
    "        self.bodys = bodys\n",
    "\n",
    "    # (Behavior/Method)\n",
    "    def eye(self):\n",
    "        e1 = self.eyes * 10\n",
    "        return e1\n",
    "\n",
    "    def ear(self):\n",
    "        e2 = self.ears * 20\n",
    "        return e2\n",
    "\n",
    "    def nose(self):\n",
    "        e3 = self.noses\n",
    "        return e3\n",
    "\n",
    "    def tongue(self):\n",
    "        e4 = self.tongues * 2\n",
    "        return e4\n",
    "\n",
    "    def body(self):\n",
    "        e4 = self.bodys\n",
    "        return e4\n",
    "\n",
    "\n",
    "data = Dog(50, 2, 'ດົມກິ່ນໄດ້ດີ', 'ຍາວ', 'ສູງໃຫຍ່')\n",
    "print(f'ໄລຍະການເຫັນໃນຕາຂອງໝາ ແມ່ນ {data.eye()} Km')\n",
    "print(f'ໄລຍະການໄດ້ຍິນໃນຫູຂອງໝາ ແມ່ນ {data.ear()} Km')\n",
    "print(f'ໄລຍະການດົມກິ່ນຂອງໝາ 3 Km ແມ່ນ {data.nose()}')\n",
    "print(f'ໝາມີລິ້ນທີ່ຍາວ {data.tongue()} ກວ່າແມວ')\n",
    "print(f'ໝາມີຮ່າງກາຍ {data.body()} ກວ່າແມວ 5 ເທົ່າ')"
   ]
  }
 ],
 "metadata": {
  "kernelspec": {
   "display_name": "Python 3.10.4 64-bit",
   "language": "python",
   "name": "python3"
  },
  "language_info": {
   "codemirror_mode": {
    "name": "ipython",
    "version": 3
   },
   "file_extension": ".py",
   "mimetype": "text/x-python",
   "name": "python",
   "nbconvert_exporter": "python",
   "pygments_lexer": "ipython3",
   "version": "3.10.4"
  },
  "orig_nbformat": 4,
  "vscode": {
   "interpreter": {
    "hash": "369f2c481f4da34e4445cda3fffd2e751bd1c4d706f27375911949ba6bb62e1c"
   }
  }
 },
 "nbformat": 4,
 "nbformat_minor": 2
}
