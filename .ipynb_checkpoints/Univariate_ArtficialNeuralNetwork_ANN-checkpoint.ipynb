{
 "cells": [
  {
   "cell_type": "markdown",
   "metadata": {
    "id": "uT591YFsRr1j"
   },
   "source": [
    "## การพัฒนาโมเดลโครงข่ายประสาทเทียม 8 ขั้นตอน\n",
    "## ขั้นตอนที่ 1 การโหลด Libraries เพื่่อใช้ในการนำเข้าข้อมูล "
   ]
  },
  {
   "cell_type": "code",
   "execution_count": 1,
   "metadata": {
    "id": "hyG4xyqhvxga"
   },
   "outputs": [],
   "source": [
    "#การโหลด Libraries เข้ามาใช้งาน \n",
    "from keras.models import Sequential\n",
    "from keras.layers import Dense, Dropout\n",
    "import pandas as pd\n",
    "from sklearn.model_selection import train_test_split\n",
    "import matplotlib.pyplot as plt\n",
    "plt.style.use('fivethirtyeight')"
   ]
  },
  {
   "cell_type": "code",
   "execution_count": null,
   "metadata": {
    "colab": {
     "base_uri": "https://localhost:8080/",
     "height": 404
    },
    "id": "ClcsA7zWzXjY",
    "outputId": "33453eb7-d4cf-42a1-8cc0-ca704bef0584"
   },
   "outputs": [
    {
     "data": {
      "text/html": [
       "<div>\n",
       "<style scoped>\n",
       "    .dataframe tbody tr th:only-of-type {\n",
       "        vertical-align: middle;\n",
       "    }\n",
       "\n",
       "    .dataframe tbody tr th {\n",
       "        vertical-align: top;\n",
       "    }\n",
       "\n",
       "    .dataframe thead th {\n",
       "        text-align: right;\n",
       "    }\n",
       "</style>\n",
       "<table border=\"1\" class=\"dataframe\">\n",
       "  <thead>\n",
       "    <tr style=\"text-align: right;\">\n",
       "      <th></th>\n",
       "      <th>iso_code</th>\n",
       "      <th>continent</th>\n",
       "      <th>location</th>\n",
       "      <th>date</th>\n",
       "      <th>total_cases</th>\n",
       "      <th>new_cases</th>\n",
       "      <th>new_cases_smoothed</th>\n",
       "      <th>total_deaths</th>\n",
       "      <th>new_deaths</th>\n",
       "      <th>new_deaths_smoothed</th>\n",
       "      <th>total_cases_per_million</th>\n",
       "      <th>new_cases_per_million</th>\n",
       "      <th>new_cases_smoothed_per_million</th>\n",
       "      <th>total_deaths_per_million</th>\n",
       "      <th>new_deaths_per_million</th>\n",
       "      <th>new_deaths_smoothed_per_million</th>\n",
       "      <th>reproduction_rate</th>\n",
       "      <th>icu_patients</th>\n",
       "      <th>icu_patients_per_million</th>\n",
       "      <th>hosp_patients</th>\n",
       "      <th>hosp_patients_per_million</th>\n",
       "      <th>weekly_icu_admissions</th>\n",
       "      <th>weekly_icu_admissions_per_million</th>\n",
       "      <th>weekly_hosp_admissions</th>\n",
       "      <th>weekly_hosp_admissions_per_million</th>\n",
       "      <th>new_tests</th>\n",
       "      <th>total_tests</th>\n",
       "      <th>total_tests_per_thousand</th>\n",
       "      <th>new_tests_per_thousand</th>\n",
       "      <th>new_tests_smoothed</th>\n",
       "      <th>new_tests_smoothed_per_thousand</th>\n",
       "      <th>positive_rate</th>\n",
       "      <th>tests_per_case</th>\n",
       "      <th>tests_units</th>\n",
       "      <th>total_vaccinations</th>\n",
       "      <th>new_vaccinations</th>\n",
       "      <th>new_vaccinations_smoothed</th>\n",
       "      <th>total_vaccinations_per_hundred</th>\n",
       "      <th>new_vaccinations_smoothed_per_million</th>\n",
       "      <th>stringency_index</th>\n",
       "      <th>population</th>\n",
       "      <th>population_density</th>\n",
       "      <th>median_age</th>\n",
       "      <th>aged_65_older</th>\n",
       "      <th>aged_70_older</th>\n",
       "      <th>gdp_per_capita</th>\n",
       "      <th>extreme_poverty</th>\n",
       "      <th>cardiovasc_death_rate</th>\n",
       "      <th>diabetes_prevalence</th>\n",
       "      <th>female_smokers</th>\n",
       "      <th>male_smokers</th>\n",
       "      <th>handwashing_facilities</th>\n",
       "      <th>hospital_beds_per_thousand</th>\n",
       "      <th>life_expectancy</th>\n",
       "      <th>human_development_index</th>\n",
       "    </tr>\n",
       "  </thead>\n",
       "  <tbody>\n",
       "    <tr>\n",
       "      <th>0</th>\n",
       "      <td>AFG</td>\n",
       "      <td>Asia</td>\n",
       "      <td>Afghanistan</td>\n",
       "      <td>2020-02-24</td>\n",
       "      <td>1.0</td>\n",
       "      <td>1.0</td>\n",
       "      <td>NaN</td>\n",
       "      <td>NaN</td>\n",
       "      <td>NaN</td>\n",
       "      <td>NaN</td>\n",
       "      <td>0.026</td>\n",
       "      <td>0.026</td>\n",
       "      <td>NaN</td>\n",
       "      <td>NaN</td>\n",
       "      <td>NaN</td>\n",
       "      <td>NaN</td>\n",
       "      <td>NaN</td>\n",
       "      <td>NaN</td>\n",
       "      <td>NaN</td>\n",
       "      <td>NaN</td>\n",
       "      <td>NaN</td>\n",
       "      <td>NaN</td>\n",
       "      <td>NaN</td>\n",
       "      <td>NaN</td>\n",
       "      <td>NaN</td>\n",
       "      <td>NaN</td>\n",
       "      <td>NaN</td>\n",
       "      <td>NaN</td>\n",
       "      <td>NaN</td>\n",
       "      <td>NaN</td>\n",
       "      <td>NaN</td>\n",
       "      <td>NaN</td>\n",
       "      <td>NaN</td>\n",
       "      <td>NaN</td>\n",
       "      <td>NaN</td>\n",
       "      <td>NaN</td>\n",
       "      <td>NaN</td>\n",
       "      <td>NaN</td>\n",
       "      <td>NaN</td>\n",
       "      <td>8.33</td>\n",
       "      <td>38928341.0</td>\n",
       "      <td>54.422</td>\n",
       "      <td>18.6</td>\n",
       "      <td>2.581</td>\n",
       "      <td>1.337</td>\n",
       "      <td>1803.987</td>\n",
       "      <td>NaN</td>\n",
       "      <td>597.029</td>\n",
       "      <td>9.59</td>\n",
       "      <td>NaN</td>\n",
       "      <td>NaN</td>\n",
       "      <td>37.746</td>\n",
       "      <td>0.5</td>\n",
       "      <td>64.83</td>\n",
       "      <td>0.498</td>\n",
       "    </tr>\n",
       "    <tr>\n",
       "      <th>1</th>\n",
       "      <td>AFG</td>\n",
       "      <td>Asia</td>\n",
       "      <td>Afghanistan</td>\n",
       "      <td>2020-02-25</td>\n",
       "      <td>1.0</td>\n",
       "      <td>0.0</td>\n",
       "      <td>NaN</td>\n",
       "      <td>NaN</td>\n",
       "      <td>NaN</td>\n",
       "      <td>NaN</td>\n",
       "      <td>0.026</td>\n",
       "      <td>0.000</td>\n",
       "      <td>NaN</td>\n",
       "      <td>NaN</td>\n",
       "      <td>NaN</td>\n",
       "      <td>NaN</td>\n",
       "      <td>NaN</td>\n",
       "      <td>NaN</td>\n",
       "      <td>NaN</td>\n",
       "      <td>NaN</td>\n",
       "      <td>NaN</td>\n",
       "      <td>NaN</td>\n",
       "      <td>NaN</td>\n",
       "      <td>NaN</td>\n",
       "      <td>NaN</td>\n",
       "      <td>NaN</td>\n",
       "      <td>NaN</td>\n",
       "      <td>NaN</td>\n",
       "      <td>NaN</td>\n",
       "      <td>NaN</td>\n",
       "      <td>NaN</td>\n",
       "      <td>NaN</td>\n",
       "      <td>NaN</td>\n",
       "      <td>NaN</td>\n",
       "      <td>NaN</td>\n",
       "      <td>NaN</td>\n",
       "      <td>NaN</td>\n",
       "      <td>NaN</td>\n",
       "      <td>NaN</td>\n",
       "      <td>8.33</td>\n",
       "      <td>38928341.0</td>\n",
       "      <td>54.422</td>\n",
       "      <td>18.6</td>\n",
       "      <td>2.581</td>\n",
       "      <td>1.337</td>\n",
       "      <td>1803.987</td>\n",
       "      <td>NaN</td>\n",
       "      <td>597.029</td>\n",
       "      <td>9.59</td>\n",
       "      <td>NaN</td>\n",
       "      <td>NaN</td>\n",
       "      <td>37.746</td>\n",
       "      <td>0.5</td>\n",
       "      <td>64.83</td>\n",
       "      <td>0.498</td>\n",
       "    </tr>\n",
       "    <tr>\n",
       "      <th>2</th>\n",
       "      <td>AFG</td>\n",
       "      <td>Asia</td>\n",
       "      <td>Afghanistan</td>\n",
       "      <td>2020-02-26</td>\n",
       "      <td>1.0</td>\n",
       "      <td>0.0</td>\n",
       "      <td>NaN</td>\n",
       "      <td>NaN</td>\n",
       "      <td>NaN</td>\n",
       "      <td>NaN</td>\n",
       "      <td>0.026</td>\n",
       "      <td>0.000</td>\n",
       "      <td>NaN</td>\n",
       "      <td>NaN</td>\n",
       "      <td>NaN</td>\n",
       "      <td>NaN</td>\n",
       "      <td>NaN</td>\n",
       "      <td>NaN</td>\n",
       "      <td>NaN</td>\n",
       "      <td>NaN</td>\n",
       "      <td>NaN</td>\n",
       "      <td>NaN</td>\n",
       "      <td>NaN</td>\n",
       "      <td>NaN</td>\n",
       "      <td>NaN</td>\n",
       "      <td>NaN</td>\n",
       "      <td>NaN</td>\n",
       "      <td>NaN</td>\n",
       "      <td>NaN</td>\n",
       "      <td>NaN</td>\n",
       "      <td>NaN</td>\n",
       "      <td>NaN</td>\n",
       "      <td>NaN</td>\n",
       "      <td>NaN</td>\n",
       "      <td>NaN</td>\n",
       "      <td>NaN</td>\n",
       "      <td>NaN</td>\n",
       "      <td>NaN</td>\n",
       "      <td>NaN</td>\n",
       "      <td>8.33</td>\n",
       "      <td>38928341.0</td>\n",
       "      <td>54.422</td>\n",
       "      <td>18.6</td>\n",
       "      <td>2.581</td>\n",
       "      <td>1.337</td>\n",
       "      <td>1803.987</td>\n",
       "      <td>NaN</td>\n",
       "      <td>597.029</td>\n",
       "      <td>9.59</td>\n",
       "      <td>NaN</td>\n",
       "      <td>NaN</td>\n",
       "      <td>37.746</td>\n",
       "      <td>0.5</td>\n",
       "      <td>64.83</td>\n",
       "      <td>0.498</td>\n",
       "    </tr>\n",
       "    <tr>\n",
       "      <th>3</th>\n",
       "      <td>AFG</td>\n",
       "      <td>Asia</td>\n",
       "      <td>Afghanistan</td>\n",
       "      <td>2020-02-27</td>\n",
       "      <td>1.0</td>\n",
       "      <td>0.0</td>\n",
       "      <td>NaN</td>\n",
       "      <td>NaN</td>\n",
       "      <td>NaN</td>\n",
       "      <td>NaN</td>\n",
       "      <td>0.026</td>\n",
       "      <td>0.000</td>\n",
       "      <td>NaN</td>\n",
       "      <td>NaN</td>\n",
       "      <td>NaN</td>\n",
       "      <td>NaN</td>\n",
       "      <td>NaN</td>\n",
       "      <td>NaN</td>\n",
       "      <td>NaN</td>\n",
       "      <td>NaN</td>\n",
       "      <td>NaN</td>\n",
       "      <td>NaN</td>\n",
       "      <td>NaN</td>\n",
       "      <td>NaN</td>\n",
       "      <td>NaN</td>\n",
       "      <td>NaN</td>\n",
       "      <td>NaN</td>\n",
       "      <td>NaN</td>\n",
       "      <td>NaN</td>\n",
       "      <td>NaN</td>\n",
       "      <td>NaN</td>\n",
       "      <td>NaN</td>\n",
       "      <td>NaN</td>\n",
       "      <td>NaN</td>\n",
       "      <td>NaN</td>\n",
       "      <td>NaN</td>\n",
       "      <td>NaN</td>\n",
       "      <td>NaN</td>\n",
       "      <td>NaN</td>\n",
       "      <td>8.33</td>\n",
       "      <td>38928341.0</td>\n",
       "      <td>54.422</td>\n",
       "      <td>18.6</td>\n",
       "      <td>2.581</td>\n",
       "      <td>1.337</td>\n",
       "      <td>1803.987</td>\n",
       "      <td>NaN</td>\n",
       "      <td>597.029</td>\n",
       "      <td>9.59</td>\n",
       "      <td>NaN</td>\n",
       "      <td>NaN</td>\n",
       "      <td>37.746</td>\n",
       "      <td>0.5</td>\n",
       "      <td>64.83</td>\n",
       "      <td>0.498</td>\n",
       "    </tr>\n",
       "    <tr>\n",
       "      <th>4</th>\n",
       "      <td>AFG</td>\n",
       "      <td>Asia</td>\n",
       "      <td>Afghanistan</td>\n",
       "      <td>2020-02-28</td>\n",
       "      <td>1.0</td>\n",
       "      <td>0.0</td>\n",
       "      <td>NaN</td>\n",
       "      <td>NaN</td>\n",
       "      <td>NaN</td>\n",
       "      <td>NaN</td>\n",
       "      <td>0.026</td>\n",
       "      <td>0.000</td>\n",
       "      <td>NaN</td>\n",
       "      <td>NaN</td>\n",
       "      <td>NaN</td>\n",
       "      <td>NaN</td>\n",
       "      <td>NaN</td>\n",
       "      <td>NaN</td>\n",
       "      <td>NaN</td>\n",
       "      <td>NaN</td>\n",
       "      <td>NaN</td>\n",
       "      <td>NaN</td>\n",
       "      <td>NaN</td>\n",
       "      <td>NaN</td>\n",
       "      <td>NaN</td>\n",
       "      <td>NaN</td>\n",
       "      <td>NaN</td>\n",
       "      <td>NaN</td>\n",
       "      <td>NaN</td>\n",
       "      <td>NaN</td>\n",
       "      <td>NaN</td>\n",
       "      <td>NaN</td>\n",
       "      <td>NaN</td>\n",
       "      <td>NaN</td>\n",
       "      <td>NaN</td>\n",
       "      <td>NaN</td>\n",
       "      <td>NaN</td>\n",
       "      <td>NaN</td>\n",
       "      <td>NaN</td>\n",
       "      <td>8.33</td>\n",
       "      <td>38928341.0</td>\n",
       "      <td>54.422</td>\n",
       "      <td>18.6</td>\n",
       "      <td>2.581</td>\n",
       "      <td>1.337</td>\n",
       "      <td>1803.987</td>\n",
       "      <td>NaN</td>\n",
       "      <td>597.029</td>\n",
       "      <td>9.59</td>\n",
       "      <td>NaN</td>\n",
       "      <td>NaN</td>\n",
       "      <td>37.746</td>\n",
       "      <td>0.5</td>\n",
       "      <td>64.83</td>\n",
       "      <td>0.498</td>\n",
       "    </tr>\n",
       "    <tr>\n",
       "      <th>5</th>\n",
       "      <td>AFG</td>\n",
       "      <td>Asia</td>\n",
       "      <td>Afghanistan</td>\n",
       "      <td>2020-02-29</td>\n",
       "      <td>1.0</td>\n",
       "      <td>0.0</td>\n",
       "      <td>0.143</td>\n",
       "      <td>NaN</td>\n",
       "      <td>NaN</td>\n",
       "      <td>0.0</td>\n",
       "      <td>0.026</td>\n",
       "      <td>0.000</td>\n",
       "      <td>0.004</td>\n",
       "      <td>NaN</td>\n",
       "      <td>NaN</td>\n",
       "      <td>0.0</td>\n",
       "      <td>NaN</td>\n",
       "      <td>NaN</td>\n",
       "      <td>NaN</td>\n",
       "      <td>NaN</td>\n",
       "      <td>NaN</td>\n",
       "      <td>NaN</td>\n",
       "      <td>NaN</td>\n",
       "      <td>NaN</td>\n",
       "      <td>NaN</td>\n",
       "      <td>NaN</td>\n",
       "      <td>NaN</td>\n",
       "      <td>NaN</td>\n",
       "      <td>NaN</td>\n",
       "      <td>NaN</td>\n",
       "      <td>NaN</td>\n",
       "      <td>NaN</td>\n",
       "      <td>NaN</td>\n",
       "      <td>NaN</td>\n",
       "      <td>NaN</td>\n",
       "      <td>NaN</td>\n",
       "      <td>NaN</td>\n",
       "      <td>NaN</td>\n",
       "      <td>NaN</td>\n",
       "      <td>8.33</td>\n",
       "      <td>38928341.0</td>\n",
       "      <td>54.422</td>\n",
       "      <td>18.6</td>\n",
       "      <td>2.581</td>\n",
       "      <td>1.337</td>\n",
       "      <td>1803.987</td>\n",
       "      <td>NaN</td>\n",
       "      <td>597.029</td>\n",
       "      <td>9.59</td>\n",
       "      <td>NaN</td>\n",
       "      <td>NaN</td>\n",
       "      <td>37.746</td>\n",
       "      <td>0.5</td>\n",
       "      <td>64.83</td>\n",
       "      <td>0.498</td>\n",
       "    </tr>\n",
       "    <tr>\n",
       "      <th>6</th>\n",
       "      <td>AFG</td>\n",
       "      <td>Asia</td>\n",
       "      <td>Afghanistan</td>\n",
       "      <td>2020-03-01</td>\n",
       "      <td>1.0</td>\n",
       "      <td>0.0</td>\n",
       "      <td>0.143</td>\n",
       "      <td>NaN</td>\n",
       "      <td>NaN</td>\n",
       "      <td>0.0</td>\n",
       "      <td>0.026</td>\n",
       "      <td>0.000</td>\n",
       "      <td>0.004</td>\n",
       "      <td>NaN</td>\n",
       "      <td>NaN</td>\n",
       "      <td>0.0</td>\n",
       "      <td>NaN</td>\n",
       "      <td>NaN</td>\n",
       "      <td>NaN</td>\n",
       "      <td>NaN</td>\n",
       "      <td>NaN</td>\n",
       "      <td>NaN</td>\n",
       "      <td>NaN</td>\n",
       "      <td>NaN</td>\n",
       "      <td>NaN</td>\n",
       "      <td>NaN</td>\n",
       "      <td>NaN</td>\n",
       "      <td>NaN</td>\n",
       "      <td>NaN</td>\n",
       "      <td>NaN</td>\n",
       "      <td>NaN</td>\n",
       "      <td>NaN</td>\n",
       "      <td>NaN</td>\n",
       "      <td>NaN</td>\n",
       "      <td>NaN</td>\n",
       "      <td>NaN</td>\n",
       "      <td>NaN</td>\n",
       "      <td>NaN</td>\n",
       "      <td>NaN</td>\n",
       "      <td>27.78</td>\n",
       "      <td>38928341.0</td>\n",
       "      <td>54.422</td>\n",
       "      <td>18.6</td>\n",
       "      <td>2.581</td>\n",
       "      <td>1.337</td>\n",
       "      <td>1803.987</td>\n",
       "      <td>NaN</td>\n",
       "      <td>597.029</td>\n",
       "      <td>9.59</td>\n",
       "      <td>NaN</td>\n",
       "      <td>NaN</td>\n",
       "      <td>37.746</td>\n",
       "      <td>0.5</td>\n",
       "      <td>64.83</td>\n",
       "      <td>0.498</td>\n",
       "    </tr>\n",
       "  </tbody>\n",
       "</table>\n",
       "</div>"
      ],
      "text/plain": [
       "  iso_code continent  ... life_expectancy human_development_index\n",
       "0      AFG      Asia  ...           64.83                   0.498\n",
       "1      AFG      Asia  ...           64.83                   0.498\n",
       "2      AFG      Asia  ...           64.83                   0.498\n",
       "3      AFG      Asia  ...           64.83                   0.498\n",
       "4      AFG      Asia  ...           64.83                   0.498\n",
       "5      AFG      Asia  ...           64.83                   0.498\n",
       "6      AFG      Asia  ...           64.83                   0.498\n",
       "\n",
       "[7 rows x 55 columns]"
      ]
     },
     "execution_count": 2,
     "metadata": {
      "tags": []
     },
     "output_type": "execute_result"
    }
   ],
   "source": [
    "#Store the data set\n",
    "#df = pd.read_csv('/content/drive/MyDrive/Colab Notebooks/Data/Artificial Neural Network_ANN/diabetes.csv')\n",
    "df = pd.read_csv('/content/drive/MyDrive/Colab Notebooks/Data/Artificial Neural Network_ANN/owid-covid-data.csv')\n",
    "#Look at first 7 rows of data\n",
    "df.head(7)"
   ]
  },
  {
   "cell_type": "code",
   "execution_count": null,
   "metadata": {
    "colab": {
     "base_uri": "https://localhost:8080/"
    },
    "id": "IVl4upuc0xEw",
    "outputId": "ee8e968b-ade1-4343-e0ee-6725d3794336"
   },
   "outputs": [
    {
     "data": {
      "text/plain": [
       "(60694, 55)"
      ]
     },
     "execution_count": 3,
     "metadata": {
      "tags": []
     },
     "output_type": "execute_result"
    }
   ],
   "source": [
    "#Show the shape (number of rows & columns)\n",
    "df.shape"
   ]
  },
  {
   "cell_type": "code",
   "execution_count": null,
   "metadata": {
    "colab": {
     "base_uri": "https://localhost:8080/"
    },
    "id": "9gYHgjbb2m3u",
    "outputId": "ca476c4e-9a2b-4146-b83d-3b40670334db"
   },
   "outputs": [
    {
     "name": "stdout",
     "output_type": "stream",
     "text": [
      "<class 'pandas.core.frame.DataFrame'>\n",
      "RangeIndex: 60694 entries, 0 to 60693\n",
      "Data columns (total 55 columns):\n",
      " #   Column                                 Non-Null Count  Dtype  \n",
      "---  ------                                 --------------  -----  \n",
      " 0   iso_code                               60348 non-null  object \n",
      " 1   continent                              59986 non-null  object \n",
      " 2   location                               60694 non-null  object \n",
      " 3   date                                   60694 non-null  object \n",
      " 4   total_cases                            60109 non-null  float64\n",
      " 5   new_cases                              60102 non-null  float64\n",
      " 6   new_cases_smoothed                     59147 non-null  float64\n",
      " 7   total_deaths                           51646 non-null  float64\n",
      " 8   new_deaths                             51645 non-null  float64\n",
      " 9   new_deaths_smoothed                    59147 non-null  float64\n",
      " 10  total_cases_per_million                59763 non-null  float64\n",
      " 11  new_cases_per_million                  59756 non-null  float64\n",
      " 12  new_cases_smoothed_per_million         58806 non-null  float64\n",
      " 13  total_deaths_per_million               51313 non-null  float64\n",
      " 14  new_deaths_per_million                 51312 non-null  float64\n",
      " 15  new_deaths_smoothed_per_million        58806 non-null  float64\n",
      " 16  reproduction_rate                      48756 non-null  float64\n",
      " 17  icu_patients                           6540 non-null   float64\n",
      " 18  icu_patients_per_million               6540 non-null   float64\n",
      " 19  hosp_patients                          7591 non-null   float64\n",
      " 20  hosp_patients_per_million              7591 non-null   float64\n",
      " 21  weekly_icu_admissions                  575 non-null    float64\n",
      " 22  weekly_icu_admissions_per_million      575 non-null    float64\n",
      " 23  weekly_hosp_admissions                 951 non-null    float64\n",
      " 24  weekly_hosp_admissions_per_million     951 non-null    float64\n",
      " 25  new_tests                              28022 non-null  float64\n",
      " 26  total_tests                            27841 non-null  float64\n",
      " 27  total_tests_per_thousand               27841 non-null  float64\n",
      " 28  new_tests_per_thousand                 28022 non-null  float64\n",
      " 29  new_tests_smoothed                     31487 non-null  float64\n",
      " 30  new_tests_smoothed_per_thousand        31487 non-null  float64\n",
      " 31  positive_rate                          29729 non-null  float64\n",
      " 32  tests_per_case                         29254 non-null  float64\n",
      " 33  tests_units                            32644 non-null  object \n",
      " 34  total_vaccinations                     611 non-null    float64\n",
      " 35  new_vaccinations                       442 non-null    float64\n",
      " 36  new_vaccinations_smoothed              822 non-null    float64\n",
      " 37  total_vaccinations_per_hundred         611 non-null    float64\n",
      " 38  new_vaccinations_smoothed_per_million  822 non-null    float64\n",
      " 39  stringency_index                       53917 non-null  float64\n",
      " 40  population                             60348 non-null  float64\n",
      " 41  population_density                     59072 non-null  float64\n",
      " 42  median_age                             57745 non-null  float64\n",
      " 43  aged_65_older                          57075 non-null  float64\n",
      " 44  aged_70_older                          57418 non-null  float64\n",
      " 45  gdp_per_capita                         57774 non-null  float64\n",
      " 46  extreme_poverty                        39548 non-null  float64\n",
      " 47  cardiovasc_death_rate                  58375 non-null  float64\n",
      " 48  diabetes_prevalence                    59050 non-null  float64\n",
      " 49  female_smokers                         46085 non-null  float64\n",
      " 50  male_smokers                           45454 non-null  float64\n",
      " 51  handwashing_facilities                 29221 non-null  float64\n",
      " 52  hospital_beds_per_thousand             53631 non-null  float64\n",
      " 53  life_expectancy                        60038 non-null  float64\n",
      " 54  human_development_index                58032 non-null  float64\n",
      "dtypes: float64(50), object(5)\n",
      "memory usage: 25.5+ MB\n"
     ]
    }
   ],
   "source": [
    "df.info()"
   ]
  },
  {
   "cell_type": "code",
   "execution_count": null,
   "metadata": {
    "colab": {
     "base_uri": "https://localhost:8080/"
    },
    "id": "0hSi5Srs4bTh",
    "outputId": "cb148d64-81eb-4782-eb16-2a0a4305227c"
   },
   "outputs": [
    {
     "data": {
      "text/plain": [
       "iso_code                                   346\n",
       "continent                                  708\n",
       "location                                     0\n",
       "date                                         0\n",
       "total_cases                                585\n",
       "new_cases                                  592\n",
       "new_cases_smoothed                        1547\n",
       "total_deaths                              9048\n",
       "new_deaths                                9049\n",
       "new_deaths_smoothed                       1547\n",
       "total_cases_per_million                    931\n",
       "new_cases_per_million                      938\n",
       "new_cases_smoothed_per_million            1888\n",
       "total_deaths_per_million                  9381\n",
       "new_deaths_per_million                    9382\n",
       "new_deaths_smoothed_per_million           1888\n",
       "reproduction_rate                        11938\n",
       "icu_patients                             54154\n",
       "icu_patients_per_million                 54154\n",
       "hosp_patients                            53103\n",
       "hosp_patients_per_million                53103\n",
       "weekly_icu_admissions                    60119\n",
       "weekly_icu_admissions_per_million        60119\n",
       "weekly_hosp_admissions                   59743\n",
       "weekly_hosp_admissions_per_million       59743\n",
       "new_tests                                32672\n",
       "total_tests                              32853\n",
       "total_tests_per_thousand                 32853\n",
       "new_tests_per_thousand                   32672\n",
       "new_tests_smoothed                       29207\n",
       "new_tests_smoothed_per_thousand          29207\n",
       "positive_rate                            30965\n",
       "tests_per_case                           31440\n",
       "tests_units                              28050\n",
       "total_vaccinations                       60083\n",
       "new_vaccinations                         60252\n",
       "new_vaccinations_smoothed                59872\n",
       "total_vaccinations_per_hundred           60083\n",
       "new_vaccinations_smoothed_per_million    59872\n",
       "stringency_index                          6777\n",
       "population                                 346\n",
       "population_density                        1622\n",
       "median_age                                2949\n",
       "aged_65_older                             3619\n",
       "aged_70_older                             3276\n",
       "gdp_per_capita                            2920\n",
       "extreme_poverty                          21146\n",
       "cardiovasc_death_rate                     2319\n",
       "diabetes_prevalence                       1644\n",
       "female_smokers                           14609\n",
       "male_smokers                             15240\n",
       "handwashing_facilities                   31473\n",
       "hospital_beds_per_thousand                7063\n",
       "life_expectancy                            656\n",
       "human_development_index                   2662\n",
       "dtype: int64"
      ]
     },
     "execution_count": 5,
     "metadata": {
      "tags": []
     },
     "output_type": "execute_result"
    }
   ],
   "source": [
    "#Show the number of missing (NAN, NaN, na) data for each column\n",
    "df.isnull().sum()"
   ]
  },
  {
   "cell_type": "code",
   "execution_count": null,
   "metadata": {
    "colab": {
     "base_uri": "https://localhost:8080/",
     "height": 435
    },
    "id": "xPoshuQZ2sDt",
    "outputId": "d9dc2df6-79b4-4a5e-bbd1-31e04bc5aae6"
   },
   "outputs": [
    {
     "data": {
      "text/html": [
       "<div>\n",
       "<style scoped>\n",
       "    .dataframe tbody tr th:only-of-type {\n",
       "        vertical-align: middle;\n",
       "    }\n",
       "\n",
       "    .dataframe tbody tr th {\n",
       "        vertical-align: top;\n",
       "    }\n",
       "\n",
       "    .dataframe thead th {\n",
       "        text-align: right;\n",
       "    }\n",
       "</style>\n",
       "<table border=\"1\" class=\"dataframe\">\n",
       "  <thead>\n",
       "    <tr style=\"text-align: right;\">\n",
       "      <th></th>\n",
       "      <th>total_cases</th>\n",
       "      <th>new_cases</th>\n",
       "      <th>total_deaths</th>\n",
       "      <th>new_deaths</th>\n",
       "      <th>population</th>\n",
       "      <th>gdp_per_capita</th>\n",
       "      <th>life_expectancy</th>\n",
       "      <th>human_development_index</th>\n",
       "      <th>location</th>\n",
       "    </tr>\n",
       "  </thead>\n",
       "  <tbody>\n",
       "    <tr>\n",
       "      <th>27</th>\n",
       "      <td>34.0</td>\n",
       "      <td>4.0</td>\n",
       "      <td>1.0</td>\n",
       "      <td>1.0</td>\n",
       "      <td>38928341.0</td>\n",
       "      <td>1803.987</td>\n",
       "      <td>64.83</td>\n",
       "      <td>0.498</td>\n",
       "      <td>Afghanistan</td>\n",
       "    </tr>\n",
       "    <tr>\n",
       "      <th>28</th>\n",
       "      <td>41.0</td>\n",
       "      <td>7.0</td>\n",
       "      <td>1.0</td>\n",
       "      <td>0.0</td>\n",
       "      <td>38928341.0</td>\n",
       "      <td>1803.987</td>\n",
       "      <td>64.83</td>\n",
       "      <td>0.498</td>\n",
       "      <td>Afghanistan</td>\n",
       "    </tr>\n",
       "    <tr>\n",
       "      <th>29</th>\n",
       "      <td>43.0</td>\n",
       "      <td>2.0</td>\n",
       "      <td>1.0</td>\n",
       "      <td>0.0</td>\n",
       "      <td>38928341.0</td>\n",
       "      <td>1803.987</td>\n",
       "      <td>64.83</td>\n",
       "      <td>0.498</td>\n",
       "      <td>Afghanistan</td>\n",
       "    </tr>\n",
       "    <tr>\n",
       "      <th>30</th>\n",
       "      <td>76.0</td>\n",
       "      <td>33.0</td>\n",
       "      <td>2.0</td>\n",
       "      <td>1.0</td>\n",
       "      <td>38928341.0</td>\n",
       "      <td>1803.987</td>\n",
       "      <td>64.83</td>\n",
       "      <td>0.498</td>\n",
       "      <td>Afghanistan</td>\n",
       "    </tr>\n",
       "    <tr>\n",
       "      <th>31</th>\n",
       "      <td>80.0</td>\n",
       "      <td>4.0</td>\n",
       "      <td>3.0</td>\n",
       "      <td>1.0</td>\n",
       "      <td>38928341.0</td>\n",
       "      <td>1803.987</td>\n",
       "      <td>64.83</td>\n",
       "      <td>0.498</td>\n",
       "      <td>Afghanistan</td>\n",
       "    </tr>\n",
       "    <tr>\n",
       "      <th>...</th>\n",
       "      <td>...</td>\n",
       "      <td>...</td>\n",
       "      <td>...</td>\n",
       "      <td>...</td>\n",
       "      <td>...</td>\n",
       "      <td>...</td>\n",
       "      <td>...</td>\n",
       "      <td>...</td>\n",
       "      <td>...</td>\n",
       "    </tr>\n",
       "    <tr>\n",
       "      <th>60689</th>\n",
       "      <td>24256.0</td>\n",
       "      <td>1017.0</td>\n",
       "      <td>589.0</td>\n",
       "      <td>38.0</td>\n",
       "      <td>14862927.0</td>\n",
       "      <td>1899.775</td>\n",
       "      <td>61.49</td>\n",
       "      <td>0.535</td>\n",
       "      <td>Zimbabwe</td>\n",
       "    </tr>\n",
       "    <tr>\n",
       "      <th>60690</th>\n",
       "      <td>25368.0</td>\n",
       "      <td>1112.0</td>\n",
       "      <td>636.0</td>\n",
       "      <td>47.0</td>\n",
       "      <td>14862927.0</td>\n",
       "      <td>1899.775</td>\n",
       "      <td>61.49</td>\n",
       "      <td>0.535</td>\n",
       "      <td>Zimbabwe</td>\n",
       "    </tr>\n",
       "    <tr>\n",
       "      <th>60691</th>\n",
       "      <td>26109.0</td>\n",
       "      <td>741.0</td>\n",
       "      <td>666.0</td>\n",
       "      <td>30.0</td>\n",
       "      <td>14862927.0</td>\n",
       "      <td>1899.775</td>\n",
       "      <td>61.49</td>\n",
       "      <td>0.535</td>\n",
       "      <td>Zimbabwe</td>\n",
       "    </tr>\n",
       "    <tr>\n",
       "      <th>60692</th>\n",
       "      <td>26881.0</td>\n",
       "      <td>772.0</td>\n",
       "      <td>683.0</td>\n",
       "      <td>17.0</td>\n",
       "      <td>14862927.0</td>\n",
       "      <td>1899.775</td>\n",
       "      <td>61.49</td>\n",
       "      <td>0.535</td>\n",
       "      <td>Zimbabwe</td>\n",
       "    </tr>\n",
       "    <tr>\n",
       "      <th>60693</th>\n",
       "      <td>27203.0</td>\n",
       "      <td>322.0</td>\n",
       "      <td>713.0</td>\n",
       "      <td>30.0</td>\n",
       "      <td>14862927.0</td>\n",
       "      <td>1899.775</td>\n",
       "      <td>61.49</td>\n",
       "      <td>0.535</td>\n",
       "      <td>Zimbabwe</td>\n",
       "    </tr>\n",
       "  </tbody>\n",
       "</table>\n",
       "<p>48218 rows × 9 columns</p>\n",
       "</div>"
      ],
      "text/plain": [
       "       total_cases  new_cases  ...  human_development_index     location\n",
       "27            34.0        4.0  ...                    0.498  Afghanistan\n",
       "28            41.0        7.0  ...                    0.498  Afghanistan\n",
       "29            43.0        2.0  ...                    0.498  Afghanistan\n",
       "30            76.0       33.0  ...                    0.498  Afghanistan\n",
       "31            80.0        4.0  ...                    0.498  Afghanistan\n",
       "...            ...        ...  ...                      ...          ...\n",
       "60689      24256.0     1017.0  ...                    0.535     Zimbabwe\n",
       "60690      25368.0     1112.0  ...                    0.535     Zimbabwe\n",
       "60691      26109.0      741.0  ...                    0.535     Zimbabwe\n",
       "60692      26881.0      772.0  ...                    0.535     Zimbabwe\n",
       "60693      27203.0      322.0  ...                    0.535     Zimbabwe\n",
       "\n",
       "[48218 rows x 9 columns]"
      ]
     },
     "execution_count": 6,
     "metadata": {
      "tags": []
     },
     "output_type": "execute_result"
    }
   ],
   "source": [
    "##.loc[:,[...]] ฟังก์ชันใช้เลือกเอาเฉพาะคอลัมน์ที่ต้องการนำมาใช้งาน\n",
    "##.dropna() คำสั่งลบข้อมูล missing คือข้อมูลที่ไม่สมบูรณ์ออก\n",
    "#data1.to_csv('D:/Face Detection/Datanew/data1.csv') #คำสั่งบันทึกไฟล์เก็บไว้เป็นนามสกุล .csv\n",
    "dt = df.loc[:,['total_cases','new_cases',\n",
    "               'total_deaths','new_deaths',\n",
    "               'population','gdp_per_capita',\n",
    "               'life_expectancy','human_development_index','location']].dropna() #คำสั่ง .loc ใช้เลือกข้อมูลบางคอลัมน์\n",
    "dt"
   ]
  },
  {
   "cell_type": "code",
   "execution_count": null,
   "metadata": {
    "colab": {
     "base_uri": "https://localhost:8080/"
    },
    "id": "_xDgf8X36q64",
    "outputId": "fe23f99d-99e3-4952-d359-4f983c7689ed"
   },
   "outputs": [
    {
     "data": {
      "text/plain": [
       "array(['Afghanistan', 'Albania', 'Algeria', 'Angola',\n",
       "       'Antigua and Barbuda', 'Argentina', 'Armenia', 'Australia',\n",
       "       'Austria', 'Azerbaijan', 'Bahamas', 'Bahrain', 'Bangladesh',\n",
       "       'Barbados', 'Belarus', 'Belgium', 'Belize', 'Benin', 'Bhutan',\n",
       "       'Bolivia', 'Bosnia and Herzegovina', 'Botswana', 'Brazil',\n",
       "       'Brunei', 'Bulgaria', 'Burkina Faso', 'Burundi', 'Cameroon',\n",
       "       'Canada', 'Cape Verde', 'Central African Republic', 'Chad',\n",
       "       'Chile', 'China', 'Colombia', 'Comoros', 'Congo', 'Costa Rica',\n",
       "       \"Cote d'Ivoire\", 'Croatia', 'Cyprus', 'Czechia',\n",
       "       'Democratic Republic of Congo', 'Denmark', 'Djibouti',\n",
       "       'Dominican Republic', 'Ecuador', 'Egypt', 'El Salvador',\n",
       "       'Equatorial Guinea', 'Eritrea', 'Estonia', 'Eswatini', 'Ethiopia',\n",
       "       'Fiji', 'Finland', 'France', 'Gabon', 'Gambia', 'Georgia',\n",
       "       'Germany', 'Ghana', 'Greece', 'Grenada', 'Guatemala', 'Guinea',\n",
       "       'Guinea-Bissau', 'Guyana', 'Haiti', 'Honduras', 'Hungary',\n",
       "       'Iceland', 'India', 'Indonesia', 'Iran', 'Iraq', 'Ireland',\n",
       "       'Israel', 'Italy', 'Jamaica', 'Japan', 'Jordan', 'Kazakhstan',\n",
       "       'Kenya', 'Kuwait', 'Kyrgyzstan', 'Latvia', 'Lebanon', 'Lesotho',\n",
       "       'Liberia', 'Libya', 'Lithuania', 'Luxembourg', 'Madagascar',\n",
       "       'Malawi', 'Malaysia', 'Maldives', 'Mali', 'Malta', 'Mauritania',\n",
       "       'Mauritius', 'Mexico', 'Moldova', 'Mongolia', 'Montenegro',\n",
       "       'Morocco', 'Mozambique', 'Myanmar', 'Namibia', 'Nepal',\n",
       "       'Netherlands', 'New Zealand', 'Nicaragua', 'Niger', 'Nigeria',\n",
       "       'North Macedonia', 'Norway', 'Oman', 'Pakistan', 'Palestine',\n",
       "       'Panama', 'Papua New Guinea', 'Paraguay', 'Peru', 'Philippines',\n",
       "       'Poland', 'Portugal', 'Qatar', 'Romania', 'Russia', 'Rwanda',\n",
       "       'Saint Lucia', 'Saint Vincent and the Grenadines',\n",
       "       'Sao Tome and Principe', 'Saudi Arabia', 'Senegal', 'Serbia',\n",
       "       'Seychelles', 'Sierra Leone', 'Singapore', 'Slovakia', 'Slovenia',\n",
       "       'South Africa', 'South Korea', 'South Sudan', 'Spain', 'Sri Lanka',\n",
       "       'Sudan', 'Suriname', 'Sweden', 'Switzerland', 'Tajikistan',\n",
       "       'Tanzania', 'Thailand', 'Togo', 'Trinidad and Tobago', 'Tunisia',\n",
       "       'Turkey', 'Uganda', 'Ukraine', 'United Arab Emirates',\n",
       "       'United Kingdom', 'United States', 'Uruguay', 'Uzbekistan',\n",
       "       'Venezuela', 'Vietnam', 'Yemen', 'Zambia', 'Zimbabwe'],\n",
       "      dtype=object)"
      ]
     },
     "execution_count": 7,
     "metadata": {
      "tags": []
     },
     "output_type": "execute_result"
    }
   ],
   "source": [
    "#dt['location'].unique() คำสั่งแสดงรายชื่อประเทศว่ามีประเทศอะไรบ้าง \n",
    "data = dt.location.unique() # .unique() เป็น method ใช้ดูรายชื่อประเทศว่ามีประเทศอะไรบ้าง\n",
    "data"
   ]
  },
  {
   "cell_type": "code",
   "execution_count": null,
   "metadata": {
    "colab": {
     "base_uri": "https://localhost:8080/"
    },
    "id": "0iDOB1xRHO1R",
    "outputId": "8710fdef-3cc0-4411-cd8c-0d38077eba81"
   },
   "outputs": [
    {
     "data": {
      "text/plain": [
       "170"
      ]
     },
     "execution_count": 8,
     "metadata": {
      "tags": []
     },
     "output_type": "execute_result"
    }
   ],
   "source": [
    "len(data)"
   ]
  },
  {
   "cell_type": "code",
   "execution_count": null,
   "metadata": {
    "colab": {
     "base_uri": "https://localhost:8080/",
     "height": 435
    },
    "id": "VNnf7uv6F424",
    "outputId": "2b005ff9-3a62-46eb-a57d-85faddb2a9e9"
   },
   "outputs": [
    {
     "data": {
      "text/html": [
       "<div>\n",
       "<style scoped>\n",
       "    .dataframe tbody tr th:only-of-type {\n",
       "        vertical-align: middle;\n",
       "    }\n",
       "\n",
       "    .dataframe tbody tr th {\n",
       "        vertical-align: top;\n",
       "    }\n",
       "\n",
       "    .dataframe thead th {\n",
       "        text-align: right;\n",
       "    }\n",
       "</style>\n",
       "<table border=\"1\" class=\"dataframe\">\n",
       "  <thead>\n",
       "    <tr style=\"text-align: right;\">\n",
       "      <th></th>\n",
       "      <th>total_cases</th>\n",
       "      <th>new_cases</th>\n",
       "      <th>total_deaths</th>\n",
       "      <th>new_deaths</th>\n",
       "      <th>population</th>\n",
       "      <th>gdp_per_capita</th>\n",
       "      <th>life_expectancy</th>\n",
       "      <th>human_development_index</th>\n",
       "      <th>location</th>\n",
       "    </tr>\n",
       "  </thead>\n",
       "  <tbody>\n",
       "    <tr>\n",
       "      <th>37483</th>\n",
       "      <td>15.0</td>\n",
       "      <td>1.0</td>\n",
       "      <td>1.0</td>\n",
       "      <td>1.0</td>\n",
       "      <td>54409794.0</td>\n",
       "      <td>5591.597</td>\n",
       "      <td>67.13</td>\n",
       "      <td>0.578</td>\n",
       "      <td>Myanmar</td>\n",
       "    </tr>\n",
       "    <tr>\n",
       "      <th>37484</th>\n",
       "      <td>15.0</td>\n",
       "      <td>0.0</td>\n",
       "      <td>1.0</td>\n",
       "      <td>0.0</td>\n",
       "      <td>54409794.0</td>\n",
       "      <td>5591.597</td>\n",
       "      <td>67.13</td>\n",
       "      <td>0.578</td>\n",
       "      <td>Myanmar</td>\n",
       "    </tr>\n",
       "    <tr>\n",
       "      <th>37485</th>\n",
       "      <td>20.0</td>\n",
       "      <td>5.0</td>\n",
       "      <td>1.0</td>\n",
       "      <td>0.0</td>\n",
       "      <td>54409794.0</td>\n",
       "      <td>5591.597</td>\n",
       "      <td>67.13</td>\n",
       "      <td>0.578</td>\n",
       "      <td>Myanmar</td>\n",
       "    </tr>\n",
       "    <tr>\n",
       "      <th>37486</th>\n",
       "      <td>20.0</td>\n",
       "      <td>0.0</td>\n",
       "      <td>1.0</td>\n",
       "      <td>0.0</td>\n",
       "      <td>54409794.0</td>\n",
       "      <td>5591.597</td>\n",
       "      <td>67.13</td>\n",
       "      <td>0.578</td>\n",
       "      <td>Myanmar</td>\n",
       "    </tr>\n",
       "    <tr>\n",
       "      <th>37487</th>\n",
       "      <td>21.0</td>\n",
       "      <td>1.0</td>\n",
       "      <td>1.0</td>\n",
       "      <td>0.0</td>\n",
       "      <td>54409794.0</td>\n",
       "      <td>5591.597</td>\n",
       "      <td>67.13</td>\n",
       "      <td>0.578</td>\n",
       "      <td>Myanmar</td>\n",
       "    </tr>\n",
       "    <tr>\n",
       "      <th>...</th>\n",
       "      <td>...</td>\n",
       "      <td>...</td>\n",
       "      <td>...</td>\n",
       "      <td>...</td>\n",
       "      <td>...</td>\n",
       "      <td>...</td>\n",
       "      <td>...</td>\n",
       "      <td>...</td>\n",
       "      <td>...</td>\n",
       "    </tr>\n",
       "    <tr>\n",
       "      <th>54496</th>\n",
       "      <td>10991.0</td>\n",
       "      <td>0.0</td>\n",
       "      <td>67.0</td>\n",
       "      <td>0.0</td>\n",
       "      <td>69799978.0</td>\n",
       "      <td>16277.671</td>\n",
       "      <td>77.15</td>\n",
       "      <td>0.755</td>\n",
       "      <td>Thailand</td>\n",
       "    </tr>\n",
       "    <tr>\n",
       "      <th>54497</th>\n",
       "      <td>11450.0</td>\n",
       "      <td>459.0</td>\n",
       "      <td>69.0</td>\n",
       "      <td>2.0</td>\n",
       "      <td>69799978.0</td>\n",
       "      <td>16277.671</td>\n",
       "      <td>77.15</td>\n",
       "      <td>0.755</td>\n",
       "      <td>Thailand</td>\n",
       "    </tr>\n",
       "    <tr>\n",
       "      <th>54498</th>\n",
       "      <td>11680.0</td>\n",
       "      <td>230.0</td>\n",
       "      <td>70.0</td>\n",
       "      <td>1.0</td>\n",
       "      <td>69799978.0</td>\n",
       "      <td>16277.671</td>\n",
       "      <td>77.15</td>\n",
       "      <td>0.755</td>\n",
       "      <td>Thailand</td>\n",
       "    </tr>\n",
       "    <tr>\n",
       "      <th>54499</th>\n",
       "      <td>12054.0</td>\n",
       "      <td>374.0</td>\n",
       "      <td>70.0</td>\n",
       "      <td>0.0</td>\n",
       "      <td>69799978.0</td>\n",
       "      <td>16277.671</td>\n",
       "      <td>77.15</td>\n",
       "      <td>0.755</td>\n",
       "      <td>Thailand</td>\n",
       "    </tr>\n",
       "    <tr>\n",
       "      <th>54500</th>\n",
       "      <td>12423.0</td>\n",
       "      <td>369.0</td>\n",
       "      <td>70.0</td>\n",
       "      <td>0.0</td>\n",
       "      <td>69799978.0</td>\n",
       "      <td>16277.671</td>\n",
       "      <td>77.15</td>\n",
       "      <td>0.755</td>\n",
       "      <td>Thailand</td>\n",
       "    </tr>\n",
       "  </tbody>\n",
       "</table>\n",
       "<p>616 rows × 9 columns</p>\n",
       "</div>"
      ],
      "text/plain": [
       "       total_cases  new_cases  ...  human_development_index  location\n",
       "37483         15.0        1.0  ...                    0.578   Myanmar\n",
       "37484         15.0        0.0  ...                    0.578   Myanmar\n",
       "37485         20.0        5.0  ...                    0.578   Myanmar\n",
       "37486         20.0        0.0  ...                    0.578   Myanmar\n",
       "37487         21.0        1.0  ...                    0.578   Myanmar\n",
       "...            ...        ...  ...                      ...       ...\n",
       "54496      10991.0        0.0  ...                    0.755  Thailand\n",
       "54497      11450.0      459.0  ...                    0.755  Thailand\n",
       "54498      11680.0      230.0  ...                    0.755  Thailand\n",
       "54499      12054.0      374.0  ...                    0.755  Thailand\n",
       "54500      12423.0      369.0  ...                    0.755  Thailand\n",
       "\n",
       "[616 rows x 9 columns]"
      ]
     },
     "execution_count": 9,
     "metadata": {
      "tags": []
     },
     "output_type": "execute_result"
    }
   ],
   "source": [
    "# การเลือกข้อมูลประเทศ\n",
    "#sn.to_csv('/content/drive/MyDrive/Colab Notebooks/Data/Supervised_Learning_Classification/covid-dataNew.csv')\n",
    "df1 = dt.loc[dt['location'].isin(['Thailand','Myanmar'])] #.set_index('location') #.reset_index()\n",
    "df1"
   ]
  },
  {
   "cell_type": "code",
   "execution_count": null,
   "metadata": {
    "colab": {
     "base_uri": "https://localhost:8080/"
    },
    "id": "wt65p_a52sge",
    "outputId": "21d37ed8-5a42-44b1-b216-7e342770360d"
   },
   "outputs": [
    {
     "data": {
      "text/plain": [
       "total_cases                0\n",
       "new_cases                  0\n",
       "total_deaths               0\n",
       "new_deaths                 0\n",
       "population                 0\n",
       "gdp_per_capita             0\n",
       "life_expectancy            0\n",
       "human_development_index    0\n",
       "location                   0\n",
       "dtype: int64"
      ]
     },
     "execution_count": 10,
     "metadata": {
      "tags": []
     },
     "output_type": "execute_result"
    }
   ],
   "source": [
    "#Show the number of missing (NAN, NaN, na) data for each column\n",
    "df1.isnull().sum()"
   ]
  },
  {
   "cell_type": "code",
   "execution_count": null,
   "metadata": {
    "colab": {
     "base_uri": "https://localhost:8080/"
    },
    "id": "8OnR72ym2sou",
    "outputId": "c332e2f8-5709-4b59-b2b6-a3daf35d560d"
   },
   "outputs": [
    {
     "data": {
      "text/plain": [
       "(616, 9)"
      ]
     },
     "execution_count": 11,
     "metadata": {
      "tags": []
     },
     "output_type": "execute_result"
    }
   ],
   "source": [
    "#Show the shape to see if any rows were dropped \n",
    "df1.shape"
   ]
  },
  {
   "cell_type": "code",
   "execution_count": null,
   "metadata": {
    "id": "3jEYg-H0Wcq_"
   },
   "outputs": [],
   "source": []
  },
  {
   "cell_type": "code",
   "execution_count": null,
   "metadata": {
    "colab": {
     "base_uri": "https://localhost:8080/"
    },
    "id": "3FV37dq32ssG",
    "outputId": "4d22c775-065c-41f2-e445-3f01f8fec26b"
   },
   "outputs": [
    {
     "name": "stdout",
     "output_type": "stream",
     "text": [
      "<class 'pandas.core.frame.DataFrame'>\n",
      "Int64Index: 616 entries, 37483 to 54500\n",
      "Data columns (total 9 columns):\n",
      " #   Column                   Non-Null Count  Dtype  \n",
      "---  ------                   --------------  -----  \n",
      " 0   total_cases              616 non-null    float64\n",
      " 1   new_cases                616 non-null    float64\n",
      " 2   total_deaths             616 non-null    float64\n",
      " 3   new_deaths               616 non-null    float64\n",
      " 4   population               616 non-null    float64\n",
      " 5   gdp_per_capita           616 non-null    float64\n",
      " 6   life_expectancy          616 non-null    float64\n",
      " 7   human_development_index  616 non-null    float64\n",
      " 8   location                 616 non-null    object \n",
      "dtypes: float64(8), object(1)\n",
      "memory usage: 48.1+ KB\n"
     ]
    }
   ],
   "source": [
    "df1.info()"
   ]
  },
  {
   "cell_type": "code",
   "execution_count": null,
   "metadata": {
    "colab": {
     "base_uri": "https://localhost:8080/"
    },
    "id": "S5zGPlF_6lv7",
    "outputId": "a877352b-b6b2-4d51-d858-0dc5091df112"
   },
   "outputs": [
    {
     "name": "stdout",
     "output_type": "stream",
     "text": [
      "       total_cases  new_cases  ...  human_development_index  location\n",
      "37483         15.0        1.0  ...                    0.578         0\n",
      "37484         15.0        0.0  ...                    0.578         0\n",
      "37485         20.0        5.0  ...                    0.578         0\n",
      "37486         20.0        0.0  ...                    0.578         0\n",
      "37487         21.0        1.0  ...                    0.578         0\n",
      "\n",
      "[5 rows x 9 columns]\n"
     ]
    },
    {
     "name": "stderr",
     "output_type": "stream",
     "text": [
      "/usr/local/lib/python3.6/dist-packages/ipykernel_launcher.py:5: SettingWithCopyWarning: \n",
      "A value is trying to be set on a copy of a slice from a DataFrame.\n",
      "Try using .loc[row_indexer,col_indexer] = value instead\n",
      "\n",
      "See the caveats in the documentation: https://pandas.pydata.org/pandas-docs/stable/user_guide/indexing.html#returning-a-view-versus-a-copy\n",
      "  \"\"\"\n"
     ]
    }
   ],
   "source": [
    "## LabelEncoder() เป็นคำสั่งแปลงชื่อประเทศให้เป็นเลขอันดับ (sequences) เช่น 0 1 2 3 4 เป็นต้น\n",
    "## Import label encoder \n",
    "from sklearn import preprocessing\n",
    "label_encoder = preprocessing.LabelEncoder()\n",
    "df1['location'] = label_encoder.fit_transform(df1['location']) \n",
    "print(df1.head())"
   ]
  },
  {
   "cell_type": "code",
   "execution_count": null,
   "metadata": {
    "colab": {
     "base_uri": "https://localhost:8080/"
    },
    "id": "n2VnR6QC2sve",
    "outputId": "eb8b47aa-0fd1-4267-9464-3f0752827431"
   },
   "outputs": [
    {
     "data": {
      "text/plain": [
       "array([[1.5000e+01, 1.0000e+00, 1.0000e+00, ..., 6.7130e+01, 5.7800e-01,\n",
       "        0.0000e+00],\n",
       "       [1.5000e+01, 0.0000e+00, 1.0000e+00, ..., 6.7130e+01, 5.7800e-01,\n",
       "        0.0000e+00],\n",
       "       [2.0000e+01, 5.0000e+00, 1.0000e+00, ..., 6.7130e+01, 5.7800e-01,\n",
       "        0.0000e+00],\n",
       "       ...,\n",
       "       [1.1680e+04, 2.3000e+02, 7.0000e+01, ..., 7.7150e+01, 7.5500e-01,\n",
       "        1.0000e+00],\n",
       "       [1.2054e+04, 3.7400e+02, 7.0000e+01, ..., 7.7150e+01, 7.5500e-01,\n",
       "        1.0000e+00],\n",
       "       [1.2423e+04, 3.6900e+02, 7.0000e+01, ..., 7.7150e+01, 7.5500e-01,\n",
       "        1.0000e+00]])"
      ]
     },
     "execution_count": 14,
     "metadata": {
      "tags": []
     },
     "output_type": "execute_result"
    }
   ],
   "source": [
    "#Convert the data into an array\n",
    "dataset = df1.values\n",
    "dataset"
   ]
  },
  {
   "cell_type": "markdown",
   "metadata": {
    "id": "zNyyzC_gb6Pc"
   },
   "source": [
    "## ขั้นตอนที่ 2 การแบ่งข้อมูล features เก็บไว้ในตัวแปร X (ตัวแปรต้น) และ class/label/target เก็บไว้ในตัวแปร y (ตัวแปรตาม)"
   ]
  },
  {
   "cell_type": "code",
   "execution_count": null,
   "metadata": {
    "colab": {
     "base_uri": "https://localhost:8080/"
    },
    "id": "zfJMkAHF2szQ",
    "outputId": "0a8a1140-b8aa-4f45-f08c-9e9e7002218f"
   },
   "outputs": [
    {
     "name": "stdout",
     "output_type": "stream",
     "text": [
      "X: [[1.5000000e+01 1.0000000e+00 1.0000000e+00 ... 5.5915970e+03\n",
      "  6.7130000e+01 5.7800000e-01]\n",
      " [1.5000000e+01 0.0000000e+00 1.0000000e+00 ... 5.5915970e+03\n",
      "  6.7130000e+01 5.7800000e-01]\n",
      " [2.0000000e+01 5.0000000e+00 1.0000000e+00 ... 5.5915970e+03\n",
      "  6.7130000e+01 5.7800000e-01]\n",
      " ...\n",
      " [1.1680000e+04 2.3000000e+02 7.0000000e+01 ... 1.6277671e+04\n",
      "  7.7150000e+01 7.5500000e-01]\n",
      " [1.2054000e+04 3.7400000e+02 7.0000000e+01 ... 1.6277671e+04\n",
      "  7.7150000e+01 7.5500000e-01]\n",
      " [1.2423000e+04 3.6900000e+02 7.0000000e+01 ... 1.6277671e+04\n",
      "  7.7150000e+01 7.5500000e-01]]\n",
      "y [0. 0. 0. 0. 0. 0. 0. 0. 0. 0. 0. 0. 0. 0. 0. 0. 0. 0. 0. 0. 0. 0. 0. 0.\n",
      " 0. 0. 0. 0. 0. 0. 0. 0. 0. 0. 0. 0. 0. 0. 0. 0. 0. 0. 0. 0. 0. 0. 0. 0.\n",
      " 0. 0. 0. 0. 0. 0. 0. 0. 0. 0. 0. 0. 0. 0. 0. 0. 0. 0. 0. 0. 0. 0. 0. 0.\n",
      " 0. 0. 0. 0. 0. 0. 0. 0. 0. 0. 0. 0. 0. 0. 0. 0. 0. 0. 0. 0. 0. 0. 0. 0.\n",
      " 0. 0. 0. 0. 0. 0. 0. 0. 0. 0. 0. 0. 0. 0. 0. 0. 0. 0. 0. 0. 0. 0. 0. 0.\n",
      " 0. 0. 0. 0. 0. 0. 0. 0. 0. 0. 0. 0. 0. 0. 0. 0. 0. 0. 0. 0. 0. 0. 0. 0.\n",
      " 0. 0. 0. 0. 0. 0. 0. 0. 0. 0. 0. 0. 0. 0. 0. 0. 0. 0. 0. 0. 0. 0. 0. 0.\n",
      " 0. 0. 0. 0. 0. 0. 0. 0. 0. 0. 0. 0. 0. 0. 0. 0. 0. 0. 0. 0. 0. 0. 0. 0.\n",
      " 0. 0. 0. 0. 0. 0. 0. 0. 0. 0. 0. 0. 0. 0. 0. 0. 0. 0. 0. 0. 0. 0. 0. 0.\n",
      " 0. 0. 0. 0. 0. 0. 0. 0. 0. 0. 0. 0. 0. 0. 0. 0. 0. 0. 0. 0. 0. 0. 0. 0.\n",
      " 0. 0. 0. 0. 0. 0. 0. 0. 0. 0. 0. 0. 0. 0. 0. 0. 0. 0. 0. 0. 0. 0. 0. 0.\n",
      " 0. 0. 0. 0. 0. 0. 0. 0. 0. 0. 0. 0. 0. 0. 0. 0. 0. 0. 0. 0. 0. 0. 0. 0.\n",
      " 0. 0. 0. 0. 0. 1. 1. 1. 1. 1. 1. 1. 1. 1. 1. 1. 1. 1. 1. 1. 1. 1. 1. 1.\n",
      " 1. 1. 1. 1. 1. 1. 1. 1. 1. 1. 1. 1. 1. 1. 1. 1. 1. 1. 1. 1. 1. 1. 1. 1.\n",
      " 1. 1. 1. 1. 1. 1. 1. 1. 1. 1. 1. 1. 1. 1. 1. 1. 1. 1. 1. 1. 1. 1. 1. 1.\n",
      " 1. 1. 1. 1. 1. 1. 1. 1. 1. 1. 1. 1. 1. 1. 1. 1. 1. 1. 1. 1. 1. 1. 1. 1.\n",
      " 1. 1. 1. 1. 1. 1. 1. 1. 1. 1. 1. 1. 1. 1. 1. 1. 1. 1. 1. 1. 1. 1. 1. 1.\n",
      " 1. 1. 1. 1. 1. 1. 1. 1. 1. 1. 1. 1. 1. 1. 1. 1. 1. 1. 1. 1. 1. 1. 1. 1.\n",
      " 1. 1. 1. 1. 1. 1. 1. 1. 1. 1. 1. 1. 1. 1. 1. 1. 1. 1. 1. 1. 1. 1. 1. 1.\n",
      " 1. 1. 1. 1. 1. 1. 1. 1. 1. 1. 1. 1. 1. 1. 1. 1. 1. 1. 1. 1. 1. 1. 1. 1.\n",
      " 1. 1. 1. 1. 1. 1. 1. 1. 1. 1. 1. 1. 1. 1. 1. 1. 1. 1. 1. 1. 1. 1. 1. 1.\n",
      " 1. 1. 1. 1. 1. 1. 1. 1. 1. 1. 1. 1. 1. 1. 1. 1. 1. 1. 1. 1. 1. 1. 1. 1.\n",
      " 1. 1. 1. 1. 1. 1. 1. 1. 1. 1. 1. 1. 1. 1. 1. 1. 1. 1. 1. 1. 1. 1. 1. 1.\n",
      " 1. 1. 1. 1. 1. 1. 1. 1. 1. 1. 1. 1. 1. 1. 1. 1. 1. 1. 1. 1. 1. 1. 1. 1.\n",
      " 1. 1. 1. 1. 1. 1. 1. 1. 1. 1. 1. 1. 1. 1. 1. 1. 1. 1. 1. 1. 1. 1. 1. 1.\n",
      " 1. 1. 1. 1. 1. 1. 1. 1. 1. 1. 1. 1. 1. 1. 1. 1.]\n"
     ]
    }
   ],
   "source": [
    "# Get all of the rows from the first eight columns of the dataset\n",
    "X = dataset[:,0:8] \n",
    "# Get all of the rows from the last column\n",
    "y = dataset[:,8]\n",
    "print('X:', X)\n",
    "print('y', y)"
   ]
  },
  {
   "cell_type": "code",
   "execution_count": null,
   "metadata": {
    "colab": {
     "base_uri": "https://localhost:8080/"
    },
    "id": "zYErzok44tUn",
    "outputId": "8adb9582-a5e0-40c4-991e-29728754bc61"
   },
   "outputs": [
    {
     "data": {
      "text/plain": [
       "array([[0.00000000e+00, 5.07380074e-03, 0.00000000e+00, ...,\n",
       "        0.00000000e+00, 0.00000000e+00, 0.00000000e+00],\n",
       "       [0.00000000e+00, 4.61254613e-03, 0.00000000e+00, ...,\n",
       "        0.00000000e+00, 0.00000000e+00, 0.00000000e+00],\n",
       "       [3.72292503e-05, 6.91881919e-03, 0.00000000e+00, ...,\n",
       "        0.00000000e+00, 0.00000000e+00, 0.00000000e+00],\n",
       "       ...,\n",
       "       [8.68558409e-02, 1.10701107e-01, 2.33581584e-02, ...,\n",
       "        1.00000000e+00, 1.00000000e+00, 1.00000000e+00],\n",
       "       [8.96405888e-02, 1.77121771e-01, 2.33581584e-02, ...,\n",
       "        1.00000000e+00, 1.00000000e+00, 1.00000000e+00],\n",
       "       [9.23881075e-02, 1.74815498e-01, 2.33581584e-02, ...,\n",
       "        1.00000000e+00, 1.00000000e+00, 1.00000000e+00]])"
      ]
     },
     "execution_count": 31,
     "metadata": {
      "tags": []
     },
     "output_type": "execute_result"
    }
   ],
   "source": [
    "#การแปลงค่าข้อมูลของ features/columns ให้เป็น 0 และ 1 โดยการใช้วิธีการแบบ min-max scaler method\n",
    "\n",
    "from sklearn import preprocessing\n",
    "min_max_scaler = preprocessing.MinMaxScaler()\n",
    "X_scale = min_max_scaler.fit_transform(X)\n",
    "X_scale"
   ]
  },
  {
   "cell_type": "markdown",
   "metadata": {
    "id": "00NMCce_f82e"
   },
   "source": [
    "## ขั้นตอนที่ 3 การแบ่งข้อมูลเพื่อใช้ในการ training set 80% และ testing set 20%"
   ]
  },
  {
   "cell_type": "code",
   "execution_count": null,
   "metadata": {
    "id": "3txVQTyv4tYR"
   },
   "outputs": [],
   "source": [
    "# การแบ่งข้อมูลเพื่อใช้ในการ training set 80% และ testing set 20%\n",
    "X_train, X_test, y_train, y_test = train_test_split(X_scale, y, test_size=0.2, random_state = 2021)"
   ]
  },
  {
   "cell_type": "markdown",
   "metadata": {
    "id": "vNr1e4d3_hpf"
   },
   "source": [
    "![image.png](data:image/png;base64,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)![image.png]"
   ]
  },
  {
   "cell_type": "code",
   "execution_count": null,
   "metadata": {
    "id": "-DvJnVGG4tbZ"
   },
   "outputs": [],
   "source": [
    "#model = Sequential([\n",
    "#    Dense(12, activation='relu', input_shape=( 8 ,)),\n",
    "#    Dropout(0.2),\n",
    "#    Dense(15, activation='relu'),\n",
    "#    Dropout(0.2),\n",
    "#    Dense(1, activation='sigmoid')\n",
    "#])"
   ]
  },
  {
   "cell_type": "markdown",
   "metadata": {
    "id": "CLcnFX3Lhdvq"
   },
   "source": [
    "## ขั้นตอนที่ 4 การสร้างโมเดลโครงข่ายประสาทเทียม"
   ]
  },
  {
   "cell_type": "code",
   "execution_count": null,
   "metadata": {
    "id": "n2vOBR3c4te3"
   },
   "outputs": [],
   "source": [
    "model = Sequential()\n",
    "model.add(Dense(15, activation='relu', input_shape=(8 ,)))\n",
    "model.add(Dropout(0.2))\n",
    "model.add(Dense(12, activation='relu'))\n",
    "model.add(Dropout(0.2))\n",
    "model.add(Dense(1, activation='sigmoid'))"
   ]
  },
  {
   "cell_type": "code",
   "execution_count": null,
   "metadata": {
    "colab": {
     "base_uri": "https://localhost:8080/"
    },
    "id": "_gWsKbiImr0b",
    "outputId": "d21f3d0b-5000-4f66-f07f-672f9f45a246"
   },
   "outputs": [
    {
     "name": "stdout",
     "output_type": "stream",
     "text": [
      "Model: \"sequential_1\"\n",
      "_________________________________________________________________\n",
      "Layer (type)                 Output Shape              Param #   \n",
      "=================================================================\n",
      "dense_3 (Dense)              (None, 15)                135       \n",
      "_________________________________________________________________\n",
      "dropout_2 (Dropout)          (None, 15)                0         \n",
      "_________________________________________________________________\n",
      "dense_4 (Dense)              (None, 12)                192       \n",
      "_________________________________________________________________\n",
      "dropout_3 (Dropout)          (None, 12)                0         \n",
      "_________________________________________________________________\n",
      "dense_5 (Dense)              (None, 1)                 13        \n",
      "=================================================================\n",
      "Total params: 340\n",
      "Trainable params: 340\n",
      "Non-trainable params: 0\n",
      "_________________________________________________________________\n"
     ]
    }
   ],
   "source": [
    "model.summary()"
   ]
  },
  {
   "cell_type": "markdown",
   "metadata": {
    "id": "QHzChSo_p_tE"
   },
   "source": [
    "## ขั้นตอนที่ 5 การ compile การประมวลผลโมเดล"
   ]
  },
  {
   "cell_type": "code",
   "execution_count": null,
   "metadata": {
    "id": "iTWN4r_L4thf"
   },
   "outputs": [],
   "source": [
    "model.compile(optimizer='adam',\n",
    "              loss='binary_crossentropy',\n",
    "              metrics=['accuracy'])"
   ]
  },
  {
   "cell_type": "markdown",
   "metadata": {
    "id": "hn8ktmikrETw"
   },
   "source": [
    "## ขั้นตอนที่ 6 การ model.fit การทำให้โมเดลเหมาะสม"
   ]
  },
  {
   "cell_type": "code",
   "execution_count": null,
   "metadata": {
    "colab": {
     "base_uri": "https://localhost:8080/"
    },
    "id": "aODJA4tFCMuU",
    "outputId": "60f33fa2-7122-4517-c3d3-88fb57913bb3"
   },
   "outputs": [
    {
     "name": "stdout",
     "output_type": "stream",
     "text": [
      "Epoch 1/100\n",
      "13/13 [==============================] - 1s 15ms/step - loss: 0.7127 - accuracy: 0.4084 - val_loss: 0.6551 - val_accuracy: 0.7576\n",
      "Epoch 2/100\n",
      "13/13 [==============================] - 0s 5ms/step - loss: 0.6513 - accuracy: 0.5849 - val_loss: 0.5944 - val_accuracy: 0.9899\n",
      "Epoch 3/100\n",
      "13/13 [==============================] - 0s 4ms/step - loss: 0.6102 - accuracy: 0.7644 - val_loss: 0.5412 - val_accuracy: 1.0000\n",
      "Epoch 4/100\n",
      "13/13 [==============================] - 0s 4ms/step - loss: 0.5554 - accuracy: 0.8697 - val_loss: 0.4913 - val_accuracy: 1.0000\n",
      "Epoch 5/100\n",
      "13/13 [==============================] - 0s 4ms/step - loss: 0.5262 - accuracy: 0.9198 - val_loss: 0.4452 - val_accuracy: 1.0000\n",
      "Epoch 6/100\n",
      "13/13 [==============================] - 0s 4ms/step - loss: 0.4723 - accuracy: 0.9685 - val_loss: 0.3973 - val_accuracy: 1.0000\n",
      "Epoch 7/100\n",
      "13/13 [==============================] - 0s 4ms/step - loss: 0.4406 - accuracy: 0.9857 - val_loss: 0.3473 - val_accuracy: 1.0000\n",
      "Epoch 8/100\n",
      "13/13 [==============================] - 0s 4ms/step - loss: 0.3860 - accuracy: 0.9796 - val_loss: 0.3016 - val_accuracy: 1.0000\n",
      "Epoch 9/100\n",
      "13/13 [==============================] - 0s 4ms/step - loss: 0.3447 - accuracy: 0.9939 - val_loss: 0.2601 - val_accuracy: 1.0000\n",
      "Epoch 10/100\n",
      "13/13 [==============================] - 0s 4ms/step - loss: 0.3111 - accuracy: 0.9923 - val_loss: 0.2244 - val_accuracy: 1.0000\n",
      "Epoch 11/100\n",
      "13/13 [==============================] - 0s 4ms/step - loss: 0.2795 - accuracy: 0.9834 - val_loss: 0.1935 - val_accuracy: 1.0000\n",
      "Epoch 12/100\n",
      "13/13 [==============================] - 0s 4ms/step - loss: 0.2350 - accuracy: 0.9880 - val_loss: 0.1669 - val_accuracy: 1.0000\n",
      "Epoch 13/100\n",
      "13/13 [==============================] - 0s 4ms/step - loss: 0.1997 - accuracy: 0.9974 - val_loss: 0.1441 - val_accuracy: 1.0000\n",
      "Epoch 14/100\n",
      "13/13 [==============================] - 0s 5ms/step - loss: 0.1916 - accuracy: 0.9917 - val_loss: 0.1241 - val_accuracy: 1.0000\n",
      "Epoch 15/100\n",
      "13/13 [==============================] - 0s 4ms/step - loss: 0.1763 - accuracy: 0.9935 - val_loss: 0.1076 - val_accuracy: 1.0000\n",
      "Epoch 16/100\n",
      "13/13 [==============================] - 0s 4ms/step - loss: 0.1524 - accuracy: 0.9980 - val_loss: 0.0940 - val_accuracy: 1.0000\n",
      "Epoch 17/100\n",
      "13/13 [==============================] - 0s 4ms/step - loss: 0.1420 - accuracy: 0.9895 - val_loss: 0.0821 - val_accuracy: 1.0000\n",
      "Epoch 18/100\n",
      "13/13 [==============================] - 0s 4ms/step - loss: 0.1083 - accuracy: 0.9968 - val_loss: 0.0724 - val_accuracy: 1.0000\n",
      "Epoch 19/100\n",
      "13/13 [==============================] - 0s 5ms/step - loss: 0.0945 - accuracy: 0.9978 - val_loss: 0.0637 - val_accuracy: 1.0000\n",
      "Epoch 20/100\n",
      "13/13 [==============================] - 0s 5ms/step - loss: 0.1047 - accuracy: 0.9968 - val_loss: 0.0558 - val_accuracy: 1.0000\n",
      "Epoch 21/100\n",
      "13/13 [==============================] - 0s 5ms/step - loss: 0.0798 - accuracy: 1.0000 - val_loss: 0.0492 - val_accuracy: 1.0000\n",
      "Epoch 22/100\n",
      "13/13 [==============================] - 0s 4ms/step - loss: 0.0742 - accuracy: 1.0000 - val_loss: 0.0436 - val_accuracy: 1.0000\n",
      "Epoch 23/100\n",
      "13/13 [==============================] - 0s 4ms/step - loss: 0.0735 - accuracy: 1.0000 - val_loss: 0.0388 - val_accuracy: 1.0000\n",
      "Epoch 24/100\n",
      "13/13 [==============================] - 0s 4ms/step - loss: 0.0670 - accuracy: 1.0000 - val_loss: 0.0346 - val_accuracy: 1.0000\n",
      "Epoch 25/100\n",
      "13/13 [==============================] - 0s 4ms/step - loss: 0.0562 - accuracy: 0.9988 - val_loss: 0.0308 - val_accuracy: 1.0000\n",
      "Epoch 26/100\n",
      "13/13 [==============================] - 0s 4ms/step - loss: 0.0570 - accuracy: 1.0000 - val_loss: 0.0273 - val_accuracy: 1.0000\n",
      "Epoch 27/100\n",
      "13/13 [==============================] - 0s 4ms/step - loss: 0.0475 - accuracy: 1.0000 - val_loss: 0.0244 - val_accuracy: 1.0000\n",
      "Epoch 28/100\n",
      "13/13 [==============================] - 0s 5ms/step - loss: 0.0527 - accuracy: 1.0000 - val_loss: 0.0220 - val_accuracy: 1.0000\n",
      "Epoch 29/100\n",
      "13/13 [==============================] - 0s 17ms/step - loss: 0.0457 - accuracy: 0.9974 - val_loss: 0.0198 - val_accuracy: 1.0000\n",
      "Epoch 30/100\n",
      "13/13 [==============================] - 0s 4ms/step - loss: 0.0511 - accuracy: 0.9895 - val_loss: 0.0180 - val_accuracy: 1.0000\n",
      "Epoch 31/100\n",
      "13/13 [==============================] - 0s 4ms/step - loss: 0.0391 - accuracy: 0.9968 - val_loss: 0.0164 - val_accuracy: 1.0000\n",
      "Epoch 32/100\n",
      "13/13 [==============================] - 0s 4ms/step - loss: 0.0420 - accuracy: 1.0000 - val_loss: 0.0149 - val_accuracy: 1.0000\n",
      "Epoch 33/100\n",
      "13/13 [==============================] - 0s 5ms/step - loss: 0.0408 - accuracy: 0.9992 - val_loss: 0.0136 - val_accuracy: 1.0000\n",
      "Epoch 34/100\n",
      "13/13 [==============================] - 0s 4ms/step - loss: 0.0376 - accuracy: 0.9946 - val_loss: 0.0124 - val_accuracy: 1.0000\n",
      "Epoch 35/100\n",
      "13/13 [==============================] - 0s 4ms/step - loss: 0.0274 - accuracy: 1.0000 - val_loss: 0.0114 - val_accuracy: 1.0000\n",
      "Epoch 36/100\n",
      "13/13 [==============================] - 0s 4ms/step - loss: 0.0377 - accuracy: 0.9978 - val_loss: 0.0105 - val_accuracy: 1.0000\n",
      "Epoch 37/100\n",
      "13/13 [==============================] - 0s 4ms/step - loss: 0.0240 - accuracy: 0.9968 - val_loss: 0.0097 - val_accuracy: 1.0000\n",
      "Epoch 38/100\n",
      "13/13 [==============================] - 0s 4ms/step - loss: 0.0279 - accuracy: 0.9903 - val_loss: 0.0091 - val_accuracy: 1.0000\n",
      "Epoch 39/100\n",
      "13/13 [==============================] - 0s 5ms/step - loss: 0.0230 - accuracy: 1.0000 - val_loss: 0.0084 - val_accuracy: 1.0000\n",
      "Epoch 40/100\n",
      "13/13 [==============================] - 0s 5ms/step - loss: 0.0258 - accuracy: 1.0000 - val_loss: 0.0078 - val_accuracy: 1.0000\n",
      "Epoch 41/100\n",
      "13/13 [==============================] - 0s 5ms/step - loss: 0.0258 - accuracy: 0.9950 - val_loss: 0.0073 - val_accuracy: 1.0000\n",
      "Epoch 42/100\n",
      "13/13 [==============================] - 0s 4ms/step - loss: 0.0160 - accuracy: 0.9990 - val_loss: 0.0068 - val_accuracy: 1.0000\n",
      "Epoch 43/100\n",
      "13/13 [==============================] - 0s 4ms/step - loss: 0.0156 - accuracy: 1.0000 - val_loss: 0.0063 - val_accuracy: 1.0000\n",
      "Epoch 44/100\n",
      "13/13 [==============================] - 0s 5ms/step - loss: 0.0223 - accuracy: 0.9949 - val_loss: 0.0058 - val_accuracy: 1.0000\n",
      "Epoch 45/100\n",
      "13/13 [==============================] - 0s 5ms/step - loss: 0.0196 - accuracy: 1.0000 - val_loss: 0.0054 - val_accuracy: 1.0000\n",
      "Epoch 46/100\n",
      "13/13 [==============================] - 0s 4ms/step - loss: 0.0212 - accuracy: 0.9961 - val_loss: 0.0050 - val_accuracy: 1.0000\n",
      "Epoch 47/100\n",
      "13/13 [==============================] - 0s 5ms/step - loss: 0.0217 - accuracy: 0.9944 - val_loss: 0.0046 - val_accuracy: 1.0000\n",
      "Epoch 48/100\n",
      "13/13 [==============================] - 0s 4ms/step - loss: 0.0134 - accuracy: 1.0000 - val_loss: 0.0043 - val_accuracy: 1.0000\n",
      "Epoch 49/100\n",
      "13/13 [==============================] - 0s 4ms/step - loss: 0.0171 - accuracy: 0.9961 - val_loss: 0.0040 - val_accuracy: 1.0000\n",
      "Epoch 50/100\n",
      "13/13 [==============================] - 0s 4ms/step - loss: 0.0119 - accuracy: 1.0000 - val_loss: 0.0038 - val_accuracy: 1.0000\n",
      "Epoch 51/100\n",
      "13/13 [==============================] - 0s 4ms/step - loss: 0.0116 - accuracy: 1.0000 - val_loss: 0.0035 - val_accuracy: 1.0000\n",
      "Epoch 52/100\n",
      "13/13 [==============================] - 0s 4ms/step - loss: 0.0123 - accuracy: 1.0000 - val_loss: 0.0033 - val_accuracy: 1.0000\n",
      "Epoch 53/100\n",
      "13/13 [==============================] - 0s 4ms/step - loss: 0.0208 - accuracy: 0.9949 - val_loss: 0.0032 - val_accuracy: 1.0000\n",
      "Epoch 54/100\n",
      "13/13 [==============================] - 0s 4ms/step - loss: 0.0115 - accuracy: 1.0000 - val_loss: 0.0030 - val_accuracy: 1.0000\n",
      "Epoch 55/100\n",
      "13/13 [==============================] - 0s 4ms/step - loss: 0.0095 - accuracy: 1.0000 - val_loss: 0.0028 - val_accuracy: 1.0000\n",
      "Epoch 56/100\n",
      "13/13 [==============================] - 0s 4ms/step - loss: 0.0133 - accuracy: 1.0000 - val_loss: 0.0027 - val_accuracy: 1.0000\n",
      "Epoch 57/100\n",
      "13/13 [==============================] - 0s 4ms/step - loss: 0.0107 - accuracy: 1.0000 - val_loss: 0.0025 - val_accuracy: 1.0000\n",
      "Epoch 58/100\n",
      "13/13 [==============================] - 0s 5ms/step - loss: 0.0094 - accuracy: 1.0000 - val_loss: 0.0024 - val_accuracy: 1.0000\n",
      "Epoch 59/100\n",
      "13/13 [==============================] - 0s 5ms/step - loss: 0.0064 - accuracy: 1.0000 - val_loss: 0.0022 - val_accuracy: 1.0000\n",
      "Epoch 60/100\n",
      "13/13 [==============================] - 0s 5ms/step - loss: 0.0095 - accuracy: 1.0000 - val_loss: 0.0021 - val_accuracy: 1.0000\n",
      "Epoch 61/100\n",
      "13/13 [==============================] - 0s 5ms/step - loss: 0.0163 - accuracy: 0.9920 - val_loss: 0.0020 - val_accuracy: 1.0000\n",
      "Epoch 62/100\n",
      "13/13 [==============================] - 0s 5ms/step - loss: 0.0090 - accuracy: 1.0000 - val_loss: 0.0019 - val_accuracy: 1.0000\n",
      "Epoch 63/100\n",
      "13/13 [==============================] - 0s 5ms/step - loss: 0.0155 - accuracy: 0.9960 - val_loss: 0.0018 - val_accuracy: 1.0000\n",
      "Epoch 64/100\n",
      "13/13 [==============================] - 0s 4ms/step - loss: 0.0055 - accuracy: 1.0000 - val_loss: 0.0017 - val_accuracy: 1.0000\n",
      "Epoch 65/100\n",
      "13/13 [==============================] - 0s 4ms/step - loss: 0.0070 - accuracy: 1.0000 - val_loss: 0.0016 - val_accuracy: 1.0000\n",
      "Epoch 66/100\n",
      "13/13 [==============================] - 0s 4ms/step - loss: 0.0082 - accuracy: 1.0000 - val_loss: 0.0015 - val_accuracy: 1.0000\n",
      "Epoch 67/100\n",
      "13/13 [==============================] - 0s 4ms/step - loss: 0.0070 - accuracy: 1.0000 - val_loss: 0.0014 - val_accuracy: 1.0000\n",
      "Epoch 68/100\n",
      "13/13 [==============================] - 0s 4ms/step - loss: 0.0093 - accuracy: 0.9996 - val_loss: 0.0013 - val_accuracy: 1.0000\n",
      "Epoch 69/100\n",
      "13/13 [==============================] - 0s 4ms/step - loss: 0.0093 - accuracy: 1.0000 - val_loss: 0.0013 - val_accuracy: 1.0000\n",
      "Epoch 70/100\n",
      "13/13 [==============================] - 0s 4ms/step - loss: 0.0087 - accuracy: 1.0000 - val_loss: 0.0012 - val_accuracy: 1.0000\n",
      "Epoch 71/100\n",
      "13/13 [==============================] - 0s 4ms/step - loss: 0.0119 - accuracy: 1.0000 - val_loss: 0.0012 - val_accuracy: 1.0000\n",
      "Epoch 72/100\n",
      "13/13 [==============================] - 0s 5ms/step - loss: 0.0077 - accuracy: 0.9990 - val_loss: 0.0011 - val_accuracy: 1.0000\n",
      "Epoch 73/100\n",
      "13/13 [==============================] - 0s 14ms/step - loss: 0.0062 - accuracy: 1.0000 - val_loss: 0.0011 - val_accuracy: 1.0000\n",
      "Epoch 74/100\n",
      "13/13 [==============================] - 0s 4ms/step - loss: 0.0123 - accuracy: 0.9927 - val_loss: 0.0010 - val_accuracy: 1.0000\n",
      "Epoch 75/100\n",
      "13/13 [==============================] - 0s 4ms/step - loss: 0.0081 - accuracy: 1.0000 - val_loss: 9.6589e-04 - val_accuracy: 1.0000\n",
      "Epoch 76/100\n",
      "13/13 [==============================] - 0s 5ms/step - loss: 0.0132 - accuracy: 0.9927 - val_loss: 9.2419e-04 - val_accuracy: 1.0000\n",
      "Epoch 77/100\n",
      "13/13 [==============================] - 0s 5ms/step - loss: 0.0071 - accuracy: 1.0000 - val_loss: 8.7296e-04 - val_accuracy: 1.0000\n",
      "Epoch 78/100\n",
      "13/13 [==============================] - 0s 5ms/step - loss: 0.0060 - accuracy: 1.0000 - val_loss: 8.2279e-04 - val_accuracy: 1.0000\n",
      "Epoch 79/100\n",
      "13/13 [==============================] - 0s 4ms/step - loss: 0.0073 - accuracy: 0.9968 - val_loss: 7.7779e-04 - val_accuracy: 1.0000\n",
      "Epoch 80/100\n",
      "13/13 [==============================] - 0s 5ms/step - loss: 0.0059 - accuracy: 1.0000 - val_loss: 7.3720e-04 - val_accuracy: 1.0000\n",
      "Epoch 81/100\n",
      "13/13 [==============================] - 0s 5ms/step - loss: 0.0057 - accuracy: 0.9992 - val_loss: 7.0561e-04 - val_accuracy: 1.0000\n",
      "Epoch 82/100\n",
      "13/13 [==============================] - 0s 5ms/step - loss: 0.0068 - accuracy: 1.0000 - val_loss: 6.7812e-04 - val_accuracy: 1.0000\n",
      "Epoch 83/100\n",
      "13/13 [==============================] - 0s 5ms/step - loss: 0.0074 - accuracy: 0.9990 - val_loss: 6.4790e-04 - val_accuracy: 1.0000\n",
      "Epoch 84/100\n",
      "13/13 [==============================] - 0s 4ms/step - loss: 0.0076 - accuracy: 0.9995 - val_loss: 6.1845e-04 - val_accuracy: 1.0000\n",
      "Epoch 85/100\n",
      "13/13 [==============================] - 0s 4ms/step - loss: 0.0083 - accuracy: 0.9949 - val_loss: 5.9110e-04 - val_accuracy: 1.0000\n",
      "Epoch 86/100\n",
      "13/13 [==============================] - 0s 4ms/step - loss: 0.0086 - accuracy: 1.0000 - val_loss: 5.6731e-04 - val_accuracy: 1.0000\n",
      "Epoch 87/100\n",
      "13/13 [==============================] - 0s 4ms/step - loss: 0.0052 - accuracy: 1.0000 - val_loss: 5.4633e-04 - val_accuracy: 1.0000\n",
      "Epoch 88/100\n",
      "13/13 [==============================] - 0s 4ms/step - loss: 0.0042 - accuracy: 1.0000 - val_loss: 5.2438e-04 - val_accuracy: 1.0000\n",
      "Epoch 89/100\n",
      "13/13 [==============================] - 0s 4ms/step - loss: 0.0053 - accuracy: 0.9995 - val_loss: 5.0619e-04 - val_accuracy: 1.0000\n",
      "Epoch 90/100\n",
      "13/13 [==============================] - 0s 5ms/step - loss: 0.0063 - accuracy: 1.0000 - val_loss: 4.9190e-04 - val_accuracy: 1.0000\n",
      "Epoch 91/100\n",
      "13/13 [==============================] - 0s 4ms/step - loss: 0.0051 - accuracy: 1.0000 - val_loss: 4.7123e-04 - val_accuracy: 1.0000\n",
      "Epoch 92/100\n",
      "13/13 [==============================] - 0s 5ms/step - loss: 0.0039 - accuracy: 1.0000 - val_loss: 4.5259e-04 - val_accuracy: 1.0000\n",
      "Epoch 93/100\n",
      "13/13 [==============================] - 0s 5ms/step - loss: 0.0043 - accuracy: 1.0000 - val_loss: 4.3427e-04 - val_accuracy: 1.0000\n",
      "Epoch 94/100\n",
      "13/13 [==============================] - 0s 5ms/step - loss: 0.0038 - accuracy: 1.0000 - val_loss: 4.1852e-04 - val_accuracy: 1.0000\n",
      "Epoch 95/100\n",
      "13/13 [==============================] - 0s 5ms/step - loss: 0.0024 - accuracy: 1.0000 - val_loss: 4.0079e-04 - val_accuracy: 1.0000\n",
      "Epoch 96/100\n",
      "13/13 [==============================] - 0s 5ms/step - loss: 0.0031 - accuracy: 0.9992 - val_loss: 3.8555e-04 - val_accuracy: 1.0000\n",
      "Epoch 97/100\n",
      "13/13 [==============================] - 0s 4ms/step - loss: 0.0052 - accuracy: 1.0000 - val_loss: 3.7497e-04 - val_accuracy: 1.0000\n",
      "Epoch 98/100\n",
      "13/13 [==============================] - 0s 4ms/step - loss: 0.0063 - accuracy: 1.0000 - val_loss: 3.6443e-04 - val_accuracy: 1.0000\n",
      "Epoch 99/100\n",
      "13/13 [==============================] - 0s 4ms/step - loss: 0.0035 - accuracy: 0.9982 - val_loss: 3.5420e-04 - val_accuracy: 1.0000\n",
      "Epoch 100/100\n",
      "13/13 [==============================] - 0s 5ms/step - loss: 0.0048 - accuracy: 1.0000 - val_loss: 3.3943e-04 - val_accuracy: 1.0000\n"
     ]
    }
   ],
   "source": [
    "hist = model.fit(X_train, y_train,\n",
    "          batch_size=32, epochs=100, \n",
    "          verbose=1, validation_split=0.2)"
   ]
  },
  {
   "cell_type": "markdown",
   "metadata": {
    "id": "SqU-n0zAqVG7"
   },
   "source": [
    "## ขั้นตอนที่ 7 การแสดงค่า Train loss และ Val loss เพื่อดูค่าความคลาดเคลื่อน หมายความว่า ถ้าคลาดเคลื่อนมาก มีความแม่นย้ำน้อย  ถ้าคลาดเคลื่อนน้อยมีความแม่นยำมาก"
   ]
  },
  {
   "cell_type": "code",
   "execution_count": null,
   "metadata": {
    "colab": {
     "base_uri": "https://localhost:8080/",
     "height": 296
    },
    "id": "jW8O-QNQI1yr",
    "outputId": "30142370-7c91-49ad-933d-42879846a63b"
   },
   "outputs": [
    {
     "data": {
      "image/png": "[encoded data removed]",
      "text/plain": [
       "<Figure size 432x288 with 1 Axes>"
      ]
     },
     "metadata": {
      "needs_background": "light",
      "tags": []
     },
     "output_type": "display_data"
    }
   ],
   "source": [
    "#visualize the training loss and the validation loss to see if the model is overfitting\n",
    "plt.plot(hist.history['loss'])\n",
    "plt.plot(hist.history['val_loss'])\n",
    "plt.title('Model loss')\n",
    "plt.ylabel('Loss')\n",
    "plt.xlabel('Epoch')\n",
    "plt.legend(['Train loss', 'Val loss'], loc='upper right')\n",
    "plt.show()"
   ]
  },
  {
   "cell_type": "code",
   "execution_count": null,
   "metadata": {
    "colab": {
     "base_uri": "https://localhost:8080/",
     "height": 296
    },
    "id": "KBEj-JK4I2IO",
    "outputId": "ef75e859-9c9a-4c77-dfdf-d278e75ad0ad"
   },
   "outputs": [
    {
     "data": {
      "image/png": "[encoded data removed]",
      "text/plain": [
       "<Figure size 432x288 with 1 Axes>"
      ]
     },
     "metadata": {
      "needs_background": "light",
      "tags": []
     },
     "output_type": "display_data"
    }
   ],
   "source": [
    "#visualize the training accuracy and the validation accuracy to see if the model is overfitting\n",
    "plt.plot(hist.history['accuracy'])\n",
    "plt.plot(hist.history['val_accuracy'])\n",
    "plt.title('Model accuracy')\n",
    "plt.ylabel('Accuracy')\n",
    "plt.xlabel('Epoch')\n",
    "plt.legend(['Train', 'Val'], loc='lower right')\n",
    "plt.show()"
   ]
  },
  {
   "cell_type": "markdown",
   "metadata": {
    "id": "LFPMcKqntZ4B"
   },
   "source": [
    "## ขั้นตอนที่ 8 การประเมินและทำนายความแม่นยำของโมเดล"
   ]
  },
  {
   "cell_type": "code",
   "execution_count": null,
   "metadata": {
    "colab": {
     "base_uri": "https://localhost:8080/"
    },
    "id": "RQhcX94pKl6v",
    "outputId": "5f0b0d1d-26a6-49d0-a1f3-dc87594775f4"
   },
   "outputs": [
    {
     "name": "stdout",
     "output_type": "stream",
     "text": [
      "              precision    recall  f1-score   support\n",
      "\n",
      "         0.0       1.00      1.00      1.00       238\n",
      "         1.0       1.00      1.00      1.00       254\n",
      "\n",
      "    accuracy                           1.00       492\n",
      "   macro avg       1.00      1.00      1.00       492\n",
      "weighted avg       1.00      1.00      1.00       492\n",
      "\n",
      "Confusion Matrix: \n",
      " [[238   0]\n",
      " [  0 254]]\n",
      "\n",
      "Accuracy:  1.0\n",
      "\n"
     ]
    }
   ],
   "source": [
    "from sklearn.metrics import classification_report,confusion_matrix, accuracy_score\n",
    "pred = model.predict(X_train)\n",
    "pred  = [1 if y>=0.5 else 0 for y in pred] #Threshold\n",
    "print(classification_report(y_train ,pred ))\n",
    "print('Confusion Matrix: \\n',confusion_matrix(y_train,pred))\n",
    "print()\n",
    "print('Accuracy: ', accuracy_score(y_train,pred))\n",
    "print()"
   ]
  },
  {
   "cell_type": "code",
   "execution_count": null,
   "metadata": {
    "colab": {
     "base_uri": "https://localhost:8080/"
    },
    "id": "jo2g5dW1N17J",
    "outputId": "3fddf4bd-b3a7-45b0-a3f5-7deddca64089"
   },
   "outputs": [
    {
     "name": "stdout",
     "output_type": "stream",
     "text": [
      "              precision    recall  f1-score   support\n",
      "\n",
      "         0.0       1.00      1.00      1.00        55\n",
      "         1.0       1.00      1.00      1.00        69\n",
      "\n",
      "    accuracy                           1.00       124\n",
      "   macro avg       1.00      1.00      1.00       124\n",
      "weighted avg       1.00      1.00      1.00       124\n",
      "\n",
      "Confusion Matrix: \n",
      " [[55  0]\n",
      " [ 0 69]]\n",
      "\n",
      "Accuracy:  1.0\n",
      "\n"
     ]
    }
   ],
   "source": [
    "from sklearn.metrics import classification_report,confusion_matrix, accuracy_score\n",
    "pred = model.predict(X_test)\n",
    "pred  = [1 if y>=0.5 else 0 for y in pred] #Threshold\n",
    "print(classification_report(y_test ,pred ))\n",
    "print('Confusion Matrix: \\n',confusion_matrix(y_test,pred))\n",
    "print()\n",
    "print('Accuracy: ', accuracy_score(y_test,pred))\n",
    "print()"
   ]
  },
  {
   "cell_type": "code",
   "execution_count": null,
   "metadata": {
    "colab": {
     "base_uri": "https://localhost:8080/"
    },
    "id": "iGLEd_kwKmE2",
    "outputId": "a2d196a9-0caa-4b3b-a05f-be2289eeea1e"
   },
   "outputs": [
    {
     "name": "stdout",
     "output_type": "stream",
     "text": [
      "4/4 [==============================] - 0s 2ms/step - loss: 3.1034e-04 - accuracy: 1.0000\n"
     ]
    },
    {
     "data": {
      "text/plain": [
       "[0.0003103365015704185, 1.0]"
      ]
     },
     "execution_count": 42,
     "metadata": {
      "tags": []
     },
     "output_type": "execute_result"
    }
   ],
   "source": [
    "model.evaluate(X_test, y_test)"
   ]
  },
  {
   "cell_type": "code",
   "execution_count": null,
   "metadata": {
    "colab": {
     "base_uri": "https://localhost:8080/"
    },
    "id": "HdGD9xwFaBKi",
    "outputId": "3494dde2-3e88-4860-c823-9aaac2d3be47"
   },
   "outputs": [
    {
     "name": "stdout",
     "output_type": "stream",
     "text": [
      "Requirement already satisfied: scikit-learn in /usr/local/lib/python3.6/dist-packages (0.22.2.post1)\n",
      "Requirement already satisfied: numpy>=1.11.0 in /usr/local/lib/python3.6/dist-packages (from scikit-learn) (1.19.5)\n",
      "Requirement already satisfied: joblib>=0.11 in /usr/local/lib/python3.6/dist-packages (from scikit-learn) (1.0.0)\n",
      "Requirement already satisfied: scipy>=0.17.0 in /usr/local/lib/python3.6/dist-packages (from scikit-learn) (1.4.1)\n"
     ]
    }
   ],
   "source": [
    "!pip install scikit-learn"
   ]
  },
  {
   "cell_type": "markdown",
   "metadata": {
    "id": "sEWwmJimhE_S"
   },
   "source": [
    "## การประเมินโมเดล Train set และ Test set ด้วย MAE, RMSE, R-Square"
   ]
  },
  {
   "cell_type": "code",
   "execution_count": null,
   "metadata": {
    "colab": {
     "base_uri": "https://localhost:8080/"
    },
    "id": "9JiZi5lxfeY7",
    "outputId": "de3722cb-1a9f-4feb-9b54-96bcee88eb6d"
   },
   "outputs": [
    {
     "name": "stdout",
     "output_type": "stream",
     "text": [
      "Train MAE: 0.00035234997882123523\n",
      "Train RMSE: 0.0006583888344169835\n",
      "Train R Square: 0.9999982642609025\n",
      "\n",
      "Test MAE: 0.00031015062606280205\n",
      "Test RMSE: 0.0006230126573812742\n",
      "Test R Square: 0.9999984273744393\n"
     ]
    }
   ],
   "source": [
    "### การประเมินโมเดลด้วย MAE, RMSE, R-Square\n",
    "import numpy as np\n",
    "from sklearn import metrics\n",
    "from sklearn.metrics import r2_score, mean_absolute_error, mean_squared_error\n",
    "# make predictions on the testing set\n",
    "y_train_pred = model.predict(X_train)\n",
    "y_test_pred = model.predict(X_test)\n",
    "#print(\"Train MSE:\",metrics.mean_square_error(y_train, y_train_pred))\n",
    "print(\"Train MAE:\",metrics.mean_absolute_error(y_train, y_train_pred))\n",
    "print(\"Train RMSE:\", np.sqrt(metrics.mean_squared_error(y_train, y_train_pred)))\n",
    "print(\"Train R Square:\", r2_score(y_train, y_train_pred))\n",
    "\n",
    "#print(\"\\nTest MSE:\",metrics.mean_square_error(y_train, y_train_pred))\n",
    "print(\"\\nTest MAE:\", metrics.mean_absolute_error(y_test, y_test_pred))\n",
    "print(\"Test RMSE:\", np.sqrt(metrics.mean_squared_error(y_test, y_test_pred)))\n",
    "print(\"Test R Square:\", r2_score(y_test, y_test_pred))\n",
    "\n",
    "### R-Square ค่าร้อยละ (%) ความแม่นยำของโมเดล\n",
    "\n",
    "### MAE: Mean Absolute Error ค่าเฉลี่ยความคลาดเคลื่อนสัมบูรณ์ \n",
    "#ถ้าค่าเข้าใกล้ 0 หรือ น้อยกว่า 0 แสดงว่าโมเดลมีความแม่นยำมาก \n",
    "#ถ้าค่าเข้าใกล้ 1 แสดงว่าโมเดลมีความแม่นยำน้อย\n",
    "\n",
    "### RMSE: Root Mean Square Error รากที่สองของค่าเฉลี่ยความคลาดเคลื่อนยกกำลังสอง\n",
    "#ถ้าค่าเข้าใกล้ 0 หรือ น้อยกว่า 0 แสดงว่าโมเดลมีความแม่นยำมาก \n",
    "#ถ้าค่าเข้าใกล้ 1 แสดงว่าโมเดลมีความแม่นยำน้อย"
   ]
  },
  {
   "cell_type": "markdown",
   "metadata": {
    "id": "cGQbG-r7hWtv"
   },
   "source": [
    "## การพยากรณ์/การทำนายโมเดล"
   ]
  },
  {
   "cell_type": "code",
   "execution_count": null,
   "metadata": {
    "colab": {
     "base_uri": "https://localhost:8080/"
    },
    "id": "5vKTQjFlYjgv",
    "outputId": "9504535c-1c28-4124-c1be-adaa017adeb2"
   },
   "outputs": [
    {
     "name": "stdout",
     "output_type": "stream",
     "text": [
      "Actual:\n",
      " [1, 0, 1, 0, 1, 0, 1, 0, 1, 1, 1, 1, 0, 1, 1, 1, 1, 1, 1, 1, 0, 1, 1, 1, 0, 0, 0, 0, 0, 1, 0, 0, 1, 1, 0, 1, 0, 0, 0, 0, 1, 1, 1, 1, 0, 0, 1, 0, 1, 1, 1, 1, 0, 0, 1, 0, 1, 0, 0, 0, 1, 0, 1, 1, 1, 0, 0, 0, 0, 1, 1, 1, 0, 1, 1, 1, 1, 0, 1, 0, 1, 1, 0, 0, 0, 0, 1, 1, 0, 0, 1, 0, 0, 1, 1, 1, 0, 1, 1, 0, 0, 0, 0, 0, 1, 1, 0, 0, 1, 1, 1, 1, 1, 1, 1, 0, 1, 1, 0, 1, 0, 0, 1, 1]\n",
      "\n",
      "Predicted:\n",
      " [1. 0. 1. 0. 1. 0. 1. 0. 1. 1. 1. 1. 0. 1. 1. 1. 1. 1. 1. 1. 0. 1. 1. 1.\n",
      " 0. 0. 0. 0. 0. 1. 0. 0. 1. 1. 0. 1. 0. 0. 0. 0. 1. 1. 1. 1. 0. 0. 1. 0.\n",
      " 1. 1. 1. 1. 0. 0. 1. 0. 1. 0. 0. 0. 1. 0. 1. 1. 1. 0. 0. 0. 0. 1. 1. 1.\n",
      " 0. 1. 1. 1. 1. 0. 1. 0. 1. 1. 0. 0. 0. 0. 1. 1. 0. 0. 1. 0. 0. 1. 1. 1.\n",
      " 0. 1. 1. 0. 0. 0. 0. 0. 1. 1. 0. 0. 1. 1. 1. 1. 1. 1. 1. 0. 1. 1. 0. 1.\n",
      " 0. 0. 1. 1.]\n"
     ]
    }
   ],
   "source": [
    "#Make a prediction & print the actual values\n",
    "prediction = model.predict(X_test)\n",
    "prediction  = [1 if y>=0.5 else 0 for y in prediction] #Threshold\n",
    "print('Actual:\\n', prediction)\n",
    "print('\\nPredicted:\\n', y_test)\n",
    "\n",
    "#ข้อมูลแถวที่ 1 คือข้อมูลจริง [Actual]\n",
    "#ข้อมูลแถวที่ 2 เป็นต้นไป คือข้อมูลทำนาย/พยากรณ์ [Predicted]"
   ]
  },
  {
   "cell_type": "code",
   "execution_count": null,
   "metadata": {
    "id": "eOyxiXCxXr1o"
   },
   "outputs": [],
   "source": []
  }
 ],
 "metadata": {
  "colab": {
   "collapsed_sections": [],
   "name": "Univariate ArtficialNeuralNetwork_ANN.ipynb",
   "provenance": []
  },
  "kernelspec": {
   "display_name": "Python 3 (ipykernel)",
   "language": "python",
   "name": "python3"
  },
  "language_info": {
   "codemirror_mode": {
    "name": "ipython",
    "version": 3
   },
   "file_extension": ".py",
   "mimetype": "text/x-python",
   "name": "python",
   "nbconvert_exporter": "python",
   "pygments_lexer": "ipython3",
   "version": "3.9.10"
  }
 },
 "nbformat": 4,
 "nbformat_minor": 1
}
