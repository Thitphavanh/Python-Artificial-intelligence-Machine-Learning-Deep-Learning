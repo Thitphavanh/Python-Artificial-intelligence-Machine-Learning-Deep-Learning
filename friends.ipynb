{
 "cells": [
  {
   "cell_type": "code",
   "execution_count": 2,
   "metadata": {},
   "outputs": [
    {
     "name": "stdout",
     "output_type": "stream",
     "text": [
      "James Sisavath ແມ່ນໝູ່ ທີີ່ສະໜິດ ແລະ ເປັນຫຸ້ນສ່ວນໃນທຸລະກິດກັນ\n"
     ]
    }
   ],
   "source": [
    "class Friends:\n",
    "    f1 = ''\n",
    "\n",
    "    def __init__(self, f1):\n",
    "        self.f1 = f1\n",
    "\n",
    "    def person1(self):\n",
    "        p1 = self.f1\n",
    "        return p1\n",
    "\n",
    "ps = Friends('James Sisavath')\n",
    "print(f'{ps.person1()} ແມ່ນໝູ່ ທີີ່ສະໜິດ ແລະ ເປັນຫຸ້ນສ່ວນໃນທຸລະກິດກັນ')"
   ]
  }
 ],
 "metadata": {
  "kernelspec": {
   "display_name": "Python 3.10.4 64-bit",
   "language": "python",
   "name": "python3"
  },
  "language_info": {
   "codemirror_mode": {
    "name": "ipython",
    "version": 3
   },
   "file_extension": ".py",
   "mimetype": "text/x-python",
   "name": "python",
   "nbconvert_exporter": "python",
   "pygments_lexer": "ipython3",
   "version": "3.10.4"
  },
  "orig_nbformat": 4,
  "vscode": {
   "interpreter": {
    "hash": "369f2c481f4da34e4445cda3fffd2e751bd1c4d706f27375911949ba6bb62e1c"
   }
  }
 },
 "nbformat": 4,
 "nbformat_minor": 2
}
